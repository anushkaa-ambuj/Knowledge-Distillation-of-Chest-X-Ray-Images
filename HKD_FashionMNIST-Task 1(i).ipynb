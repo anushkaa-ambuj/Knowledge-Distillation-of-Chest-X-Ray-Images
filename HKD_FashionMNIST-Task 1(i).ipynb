{
  "cells": [
    {
      "cell_type": "markdown",
      "metadata": {
        "id": "view-in-github",
        "colab_type": "text"
      },
      "source": [
        "<a href=\"https://colab.research.google.com/github/anushkaa-ambuj/Knowledge-Distillation-of-Chest-X-Ray-Images/blob/main/HKD_FashionMNIST-Task%201(i).ipynb\" target=\"_parent\"><img src=\"https://colab.research.google.com/assets/colab-badge.svg\" alt=\"Open In Colab\"/></a>"
      ]
    },
    {
      "cell_type": "markdown",
      "source": [
        "<b>Teacher: DenseNet 121 <br>\n",
        "Student: MobileNet\n",
        "\n",
        "Dataset: Fashion MNIST</b>"
      ],
      "metadata": {
        "id": "9esMMh0CwHlk"
      }
    },
    {
      "cell_type": "markdown",
      "source": [
        "Teacher Acc = 76\n",
        "Student Acc ="
      ],
      "metadata": {
        "id": "EZFwdF4SmQgJ"
      }
    },
    {
      "cell_type": "markdown",
      "source": [
        "## Import Dependancies"
      ],
      "metadata": {
        "id": "W7xHsBSUzJQr"
      }
    },
    {
      "cell_type": "code",
      "source": [
        "!pip install torchinfo"
      ],
      "metadata": {
        "colab": {
          "base_uri": "https://localhost:8080/"
        },
        "id": "5dObT86Oy-gZ",
        "outputId": "90581803-d1fb-4a47-ce8d-c33bb7127845"
      },
      "execution_count": null,
      "outputs": [
        {
          "output_type": "stream",
          "name": "stdout",
          "text": [
            "Requirement already satisfied: torchinfo in /usr/local/lib/python3.10/dist-packages (1.8.0)\n"
          ]
        }
      ]
    },
    {
      "cell_type": "markdown",
      "source": [
        "## Import Libraries"
      ],
      "metadata": {
        "id": "CbFyrR9AI1IG"
      }
    },
    {
      "cell_type": "code",
      "source": [
        "import numpy as np\n",
        "import matplotlib.pyplot as plt\n",
        "from PIL import Image\n",
        "import pickle\n",
        "\n",
        "from sklearn.metrics import classification_report, confusion_matrix, accuracy_score\n",
        "\n",
        "import torch\n",
        "import torchinfo\n",
        "import torchvision.datasets as datasets\n",
        "import torchvision.transforms as transforms\n",
        "import torchvision.models as models\n",
        "import torch.nn.functional as F\n",
        "import torch.nn as nn\n",
        "import torch.optim as optim\n",
        "from torchsummary import summary\n",
        "from torchvision.utils import make_grid\n",
        "#import timer"
      ],
      "metadata": {
        "id": "ZxFIJV3r1Oby"
      },
      "execution_count": null,
      "outputs": []
    },
    {
      "cell_type": "markdown",
      "source": [
        "## Define the device to use"
      ],
      "metadata": {
        "id": "yZTAc2NIKo4U"
      }
    },
    {
      "cell_type": "code",
      "source": [
        "device = torch.device(\"cuda\" if torch.cuda.is_available() else \"cpu\")\n",
        "device"
      ],
      "metadata": {
        "id": "Xd6dHDX6Km5m",
        "colab": {
          "base_uri": "https://localhost:8080/"
        },
        "outputId": "ec33c3c5-6dca-4b62-acc7-b1b78c186831"
      },
      "execution_count": null,
      "outputs": [
        {
          "output_type": "execute_result",
          "data": {
            "text/plain": [
              "device(type='cuda')"
            ]
          },
          "metadata": {},
          "execution_count": 7
        }
      ]
    },
    {
      "cell_type": "markdown",
      "source": [
        "## Data Transformations"
      ],
      "metadata": {
        "id": "ScG3zSF9I5po"
      }
    },
    {
      "cell_type": "markdown",
      "source": [
        "Currently, not utilzing any data transformations"
      ],
      "metadata": {
        "id": "m0-3f5qXt4Dh"
      }
    },
    {
      "cell_type": "code",
      "execution_count": null,
      "metadata": {
        "id": "a7rFyMHmHM0D"
      },
      "outputs": [],
      "source": [
        "# Define the transforms for data augmentation\n",
        "train_transforms = transforms.Compose([\n",
        "    transforms.ToTensor(),\n",
        "    #transforms.RandomCrop(32, padding=4),\n",
        "    #transforms.RandomHorizontalFlip(),\n",
        "    #transforms.Normalize(mean=[0.485, 0.456, 0.406],std=[0.229, 0.224, 0.225])\n",
        "])\n",
        "\n",
        "test_transforms = transforms.Compose([\n",
        "    transforms.ToTensor(),\n",
        "    #transforms.Normalize(mean=[0.485, 0.456, 0.406],std=[0.229, 0.224, 0.225])\n",
        "])"
      ]
    },
    {
      "cell_type": "markdown",
      "source": [
        "## Import the Dataset\n",
        "### Splitting the Dataset"
      ],
      "metadata": {
        "id": "2E_jhBwHI_xx"
      }
    },
    {
      "cell_type": "code",
      "execution_count": null,
      "metadata": {
        "id": "YsfjIAt7HPWl"
      },
      "outputs": [],
      "source": [
        "# Load the CIFAR-10 dataset\n",
        "train_dataset = datasets.FashionMNIST(root='./data', train=True,\n",
        "                                  download=True, transform=transforms.ToTensor())\n",
        "\n",
        "test_dataset = datasets.FashionMNIST(root='./data', train=False,\n",
        "                                 download=True, transform=transforms.ToTensor())"
      ]
    },
    {
      "cell_type": "code",
      "source": [
        "train_data, val_data = torch.utils.data.random_split(train_dataset, [48000, 12000])"
      ],
      "metadata": {
        "id": "EW1KBRBsfBPo"
      },
      "execution_count": null,
      "outputs": []
    },
    {
      "cell_type": "markdown",
      "source": [
        "## Data Loader"
      ],
      "metadata": {
        "id": "ERNHaLueJLno"
      }
    },
    {
      "cell_type": "code",
      "execution_count": null,
      "metadata": {
        "id": "IEtnYeAkX-Ob"
      },
      "outputs": [],
      "source": [
        "trainloader = torch.utils.data.DataLoader(train_data, batch_size=64,\n",
        "                                          shuffle=True)\n",
        "valloader = torch.utils.data.DataLoader(val_data, batch_size=64,\n",
        "                                          shuffle=False)\n",
        "testloader = torch.utils.data.DataLoader(test_dataset, batch_size=64,\n",
        "                                         shuffle=False)"
      ]
    },
    {
      "cell_type": "markdown",
      "source": [
        "## Teacher Model"
      ],
      "metadata": {
        "id": "UbKpJpUSJOS3"
      }
    },
    {
      "cell_type": "markdown",
      "source": [
        "### Initializing the Teacher model"
      ],
      "metadata": {
        "id": "lFGqecLpJRiu"
      }
    },
    {
      "cell_type": "code",
      "source": [
        "# Load the pre-trained DenseNet model\n",
        "teacher = models.densenet121(pretrained=True)\n",
        "\n",
        "# Change the number of input channels in the first layer to 1\n",
        "teacher.features[0] = nn.Conv2d(1, 64, kernel_size=3, stride=1, padding=1, bias=False)\n",
        "\n",
        "# Add dropout layers to the classifier\n",
        "num_ftrs = teacher.classifier.in_features\n",
        "teacher.classifier = nn.Sequential(\n",
        "    nn.Linear(num_ftrs, 512),  # Add a new fully connected layer\n",
        "    nn.ReLU(),\n",
        "    nn.Dropout(0.3),\n",
        "    nn.Linear(512, 10)  # Fashion MNIST has 10 classes\n",
        ")\n",
        "\n",
        "teacher.to(device)"
      ],
      "metadata": {
        "colab": {
          "base_uri": "https://localhost:8080/"
        },
        "id": "GjKvg6ywxEW1",
        "outputId": "34dd4982-01e2-493f-f0e5-cf3a62f01610"
      },
      "execution_count": null,
      "outputs": [
        {
          "output_type": "stream",
          "name": "stderr",
          "text": [
            "/usr/local/lib/python3.10/dist-packages/torchvision/models/_utils.py:208: UserWarning: The parameter 'pretrained' is deprecated since 0.13 and may be removed in the future, please use 'weights' instead.\n",
            "  warnings.warn(\n",
            "/usr/local/lib/python3.10/dist-packages/torchvision/models/_utils.py:223: UserWarning: Arguments other than a weight enum or `None` for 'weights' are deprecated since 0.13 and may be removed in the future. The current behavior is equivalent to passing `weights=DenseNet121_Weights.IMAGENET1K_V1`. You can also use `weights=DenseNet121_Weights.DEFAULT` to get the most up-to-date weights.\n",
            "  warnings.warn(msg)\n"
          ]
        },
        {
          "output_type": "execute_result",
          "data": {
            "text/plain": [
              "DenseNet(\n",
              "  (features): Sequential(\n",
              "    (conv0): Conv2d(1, 64, kernel_size=(3, 3), stride=(1, 1), padding=(1, 1), bias=False)\n",
              "    (norm0): BatchNorm2d(64, eps=1e-05, momentum=0.1, affine=True, track_running_stats=True)\n",
              "    (relu0): ReLU(inplace=True)\n",
              "    (pool0): MaxPool2d(kernel_size=3, stride=2, padding=1, dilation=1, ceil_mode=False)\n",
              "    (denseblock1): _DenseBlock(\n",
              "      (denselayer1): _DenseLayer(\n",
              "        (norm1): BatchNorm2d(64, eps=1e-05, momentum=0.1, affine=True, track_running_stats=True)\n",
              "        (relu1): ReLU(inplace=True)\n",
              "        (conv1): Conv2d(64, 128, kernel_size=(1, 1), stride=(1, 1), bias=False)\n",
              "        (norm2): BatchNorm2d(128, eps=1e-05, momentum=0.1, affine=True, track_running_stats=True)\n",
              "        (relu2): ReLU(inplace=True)\n",
              "        (conv2): Conv2d(128, 32, kernel_size=(3, 3), stride=(1, 1), padding=(1, 1), bias=False)\n",
              "      )\n",
              "      (denselayer2): _DenseLayer(\n",
              "        (norm1): BatchNorm2d(96, eps=1e-05, momentum=0.1, affine=True, track_running_stats=True)\n",
              "        (relu1): ReLU(inplace=True)\n",
              "        (conv1): Conv2d(96, 128, kernel_size=(1, 1), stride=(1, 1), bias=False)\n",
              "        (norm2): BatchNorm2d(128, eps=1e-05, momentum=0.1, affine=True, track_running_stats=True)\n",
              "        (relu2): ReLU(inplace=True)\n",
              "        (conv2): Conv2d(128, 32, kernel_size=(3, 3), stride=(1, 1), padding=(1, 1), bias=False)\n",
              "      )\n",
              "      (denselayer3): _DenseLayer(\n",
              "        (norm1): BatchNorm2d(128, eps=1e-05, momentum=0.1, affine=True, track_running_stats=True)\n",
              "        (relu1): ReLU(inplace=True)\n",
              "        (conv1): Conv2d(128, 128, kernel_size=(1, 1), stride=(1, 1), bias=False)\n",
              "        (norm2): BatchNorm2d(128, eps=1e-05, momentum=0.1, affine=True, track_running_stats=True)\n",
              "        (relu2): ReLU(inplace=True)\n",
              "        (conv2): Conv2d(128, 32, kernel_size=(3, 3), stride=(1, 1), padding=(1, 1), bias=False)\n",
              "      )\n",
              "      (denselayer4): _DenseLayer(\n",
              "        (norm1): BatchNorm2d(160, eps=1e-05, momentum=0.1, affine=True, track_running_stats=True)\n",
              "        (relu1): ReLU(inplace=True)\n",
              "        (conv1): Conv2d(160, 128, kernel_size=(1, 1), stride=(1, 1), bias=False)\n",
              "        (norm2): BatchNorm2d(128, eps=1e-05, momentum=0.1, affine=True, track_running_stats=True)\n",
              "        (relu2): ReLU(inplace=True)\n",
              "        (conv2): Conv2d(128, 32, kernel_size=(3, 3), stride=(1, 1), padding=(1, 1), bias=False)\n",
              "      )\n",
              "      (denselayer5): _DenseLayer(\n",
              "        (norm1): BatchNorm2d(192, eps=1e-05, momentum=0.1, affine=True, track_running_stats=True)\n",
              "        (relu1): ReLU(inplace=True)\n",
              "        (conv1): Conv2d(192, 128, kernel_size=(1, 1), stride=(1, 1), bias=False)\n",
              "        (norm2): BatchNorm2d(128, eps=1e-05, momentum=0.1, affine=True, track_running_stats=True)\n",
              "        (relu2): ReLU(inplace=True)\n",
              "        (conv2): Conv2d(128, 32, kernel_size=(3, 3), stride=(1, 1), padding=(1, 1), bias=False)\n",
              "      )\n",
              "      (denselayer6): _DenseLayer(\n",
              "        (norm1): BatchNorm2d(224, eps=1e-05, momentum=0.1, affine=True, track_running_stats=True)\n",
              "        (relu1): ReLU(inplace=True)\n",
              "        (conv1): Conv2d(224, 128, kernel_size=(1, 1), stride=(1, 1), bias=False)\n",
              "        (norm2): BatchNorm2d(128, eps=1e-05, momentum=0.1, affine=True, track_running_stats=True)\n",
              "        (relu2): ReLU(inplace=True)\n",
              "        (conv2): Conv2d(128, 32, kernel_size=(3, 3), stride=(1, 1), padding=(1, 1), bias=False)\n",
              "      )\n",
              "    )\n",
              "    (transition1): _Transition(\n",
              "      (norm): BatchNorm2d(256, eps=1e-05, momentum=0.1, affine=True, track_running_stats=True)\n",
              "      (relu): ReLU(inplace=True)\n",
              "      (conv): Conv2d(256, 128, kernel_size=(1, 1), stride=(1, 1), bias=False)\n",
              "      (pool): AvgPool2d(kernel_size=2, stride=2, padding=0)\n",
              "    )\n",
              "    (denseblock2): _DenseBlock(\n",
              "      (denselayer1): _DenseLayer(\n",
              "        (norm1): BatchNorm2d(128, eps=1e-05, momentum=0.1, affine=True, track_running_stats=True)\n",
              "        (relu1): ReLU(inplace=True)\n",
              "        (conv1): Conv2d(128, 128, kernel_size=(1, 1), stride=(1, 1), bias=False)\n",
              "        (norm2): BatchNorm2d(128, eps=1e-05, momentum=0.1, affine=True, track_running_stats=True)\n",
              "        (relu2): ReLU(inplace=True)\n",
              "        (conv2): Conv2d(128, 32, kernel_size=(3, 3), stride=(1, 1), padding=(1, 1), bias=False)\n",
              "      )\n",
              "      (denselayer2): _DenseLayer(\n",
              "        (norm1): BatchNorm2d(160, eps=1e-05, momentum=0.1, affine=True, track_running_stats=True)\n",
              "        (relu1): ReLU(inplace=True)\n",
              "        (conv1): Conv2d(160, 128, kernel_size=(1, 1), stride=(1, 1), bias=False)\n",
              "        (norm2): BatchNorm2d(128, eps=1e-05, momentum=0.1, affine=True, track_running_stats=True)\n",
              "        (relu2): ReLU(inplace=True)\n",
              "        (conv2): Conv2d(128, 32, kernel_size=(3, 3), stride=(1, 1), padding=(1, 1), bias=False)\n",
              "      )\n",
              "      (denselayer3): _DenseLayer(\n",
              "        (norm1): BatchNorm2d(192, eps=1e-05, momentum=0.1, affine=True, track_running_stats=True)\n",
              "        (relu1): ReLU(inplace=True)\n",
              "        (conv1): Conv2d(192, 128, kernel_size=(1, 1), stride=(1, 1), bias=False)\n",
              "        (norm2): BatchNorm2d(128, eps=1e-05, momentum=0.1, affine=True, track_running_stats=True)\n",
              "        (relu2): ReLU(inplace=True)\n",
              "        (conv2): Conv2d(128, 32, kernel_size=(3, 3), stride=(1, 1), padding=(1, 1), bias=False)\n",
              "      )\n",
              "      (denselayer4): _DenseLayer(\n",
              "        (norm1): BatchNorm2d(224, eps=1e-05, momentum=0.1, affine=True, track_running_stats=True)\n",
              "        (relu1): ReLU(inplace=True)\n",
              "        (conv1): Conv2d(224, 128, kernel_size=(1, 1), stride=(1, 1), bias=False)\n",
              "        (norm2): BatchNorm2d(128, eps=1e-05, momentum=0.1, affine=True, track_running_stats=True)\n",
              "        (relu2): ReLU(inplace=True)\n",
              "        (conv2): Conv2d(128, 32, kernel_size=(3, 3), stride=(1, 1), padding=(1, 1), bias=False)\n",
              "      )\n",
              "      (denselayer5): _DenseLayer(\n",
              "        (norm1): BatchNorm2d(256, eps=1e-05, momentum=0.1, affine=True, track_running_stats=True)\n",
              "        (relu1): ReLU(inplace=True)\n",
              "        (conv1): Conv2d(256, 128, kernel_size=(1, 1), stride=(1, 1), bias=False)\n",
              "        (norm2): BatchNorm2d(128, eps=1e-05, momentum=0.1, affine=True, track_running_stats=True)\n",
              "        (relu2): ReLU(inplace=True)\n",
              "        (conv2): Conv2d(128, 32, kernel_size=(3, 3), stride=(1, 1), padding=(1, 1), bias=False)\n",
              "      )\n",
              "      (denselayer6): _DenseLayer(\n",
              "        (norm1): BatchNorm2d(288, eps=1e-05, momentum=0.1, affine=True, track_running_stats=True)\n",
              "        (relu1): ReLU(inplace=True)\n",
              "        (conv1): Conv2d(288, 128, kernel_size=(1, 1), stride=(1, 1), bias=False)\n",
              "        (norm2): BatchNorm2d(128, eps=1e-05, momentum=0.1, affine=True, track_running_stats=True)\n",
              "        (relu2): ReLU(inplace=True)\n",
              "        (conv2): Conv2d(128, 32, kernel_size=(3, 3), stride=(1, 1), padding=(1, 1), bias=False)\n",
              "      )\n",
              "      (denselayer7): _DenseLayer(\n",
              "        (norm1): BatchNorm2d(320, eps=1e-05, momentum=0.1, affine=True, track_running_stats=True)\n",
              "        (relu1): ReLU(inplace=True)\n",
              "        (conv1): Conv2d(320, 128, kernel_size=(1, 1), stride=(1, 1), bias=False)\n",
              "        (norm2): BatchNorm2d(128, eps=1e-05, momentum=0.1, affine=True, track_running_stats=True)\n",
              "        (relu2): ReLU(inplace=True)\n",
              "        (conv2): Conv2d(128, 32, kernel_size=(3, 3), stride=(1, 1), padding=(1, 1), bias=False)\n",
              "      )\n",
              "      (denselayer8): _DenseLayer(\n",
              "        (norm1): BatchNorm2d(352, eps=1e-05, momentum=0.1, affine=True, track_running_stats=True)\n",
              "        (relu1): ReLU(inplace=True)\n",
              "        (conv1): Conv2d(352, 128, kernel_size=(1, 1), stride=(1, 1), bias=False)\n",
              "        (norm2): BatchNorm2d(128, eps=1e-05, momentum=0.1, affine=True, track_running_stats=True)\n",
              "        (relu2): ReLU(inplace=True)\n",
              "        (conv2): Conv2d(128, 32, kernel_size=(3, 3), stride=(1, 1), padding=(1, 1), bias=False)\n",
              "      )\n",
              "      (denselayer9): _DenseLayer(\n",
              "        (norm1): BatchNorm2d(384, eps=1e-05, momentum=0.1, affine=True, track_running_stats=True)\n",
              "        (relu1): ReLU(inplace=True)\n",
              "        (conv1): Conv2d(384, 128, kernel_size=(1, 1), stride=(1, 1), bias=False)\n",
              "        (norm2): BatchNorm2d(128, eps=1e-05, momentum=0.1, affine=True, track_running_stats=True)\n",
              "        (relu2): ReLU(inplace=True)\n",
              "        (conv2): Conv2d(128, 32, kernel_size=(3, 3), stride=(1, 1), padding=(1, 1), bias=False)\n",
              "      )\n",
              "      (denselayer10): _DenseLayer(\n",
              "        (norm1): BatchNorm2d(416, eps=1e-05, momentum=0.1, affine=True, track_running_stats=True)\n",
              "        (relu1): ReLU(inplace=True)\n",
              "        (conv1): Conv2d(416, 128, kernel_size=(1, 1), stride=(1, 1), bias=False)\n",
              "        (norm2): BatchNorm2d(128, eps=1e-05, momentum=0.1, affine=True, track_running_stats=True)\n",
              "        (relu2): ReLU(inplace=True)\n",
              "        (conv2): Conv2d(128, 32, kernel_size=(3, 3), stride=(1, 1), padding=(1, 1), bias=False)\n",
              "      )\n",
              "      (denselayer11): _DenseLayer(\n",
              "        (norm1): BatchNorm2d(448, eps=1e-05, momentum=0.1, affine=True, track_running_stats=True)\n",
              "        (relu1): ReLU(inplace=True)\n",
              "        (conv1): Conv2d(448, 128, kernel_size=(1, 1), stride=(1, 1), bias=False)\n",
              "        (norm2): BatchNorm2d(128, eps=1e-05, momentum=0.1, affine=True, track_running_stats=True)\n",
              "        (relu2): ReLU(inplace=True)\n",
              "        (conv2): Conv2d(128, 32, kernel_size=(3, 3), stride=(1, 1), padding=(1, 1), bias=False)\n",
              "      )\n",
              "      (denselayer12): _DenseLayer(\n",
              "        (norm1): BatchNorm2d(480, eps=1e-05, momentum=0.1, affine=True, track_running_stats=True)\n",
              "        (relu1): ReLU(inplace=True)\n",
              "        (conv1): Conv2d(480, 128, kernel_size=(1, 1), stride=(1, 1), bias=False)\n",
              "        (norm2): BatchNorm2d(128, eps=1e-05, momentum=0.1, affine=True, track_running_stats=True)\n",
              "        (relu2): ReLU(inplace=True)\n",
              "        (conv2): Conv2d(128, 32, kernel_size=(3, 3), stride=(1, 1), padding=(1, 1), bias=False)\n",
              "      )\n",
              "    )\n",
              "    (transition2): _Transition(\n",
              "      (norm): BatchNorm2d(512, eps=1e-05, momentum=0.1, affine=True, track_running_stats=True)\n",
              "      (relu): ReLU(inplace=True)\n",
              "      (conv): Conv2d(512, 256, kernel_size=(1, 1), stride=(1, 1), bias=False)\n",
              "      (pool): AvgPool2d(kernel_size=2, stride=2, padding=0)\n",
              "    )\n",
              "    (denseblock3): _DenseBlock(\n",
              "      (denselayer1): _DenseLayer(\n",
              "        (norm1): BatchNorm2d(256, eps=1e-05, momentum=0.1, affine=True, track_running_stats=True)\n",
              "        (relu1): ReLU(inplace=True)\n",
              "        (conv1): Conv2d(256, 128, kernel_size=(1, 1), stride=(1, 1), bias=False)\n",
              "        (norm2): BatchNorm2d(128, eps=1e-05, momentum=0.1, affine=True, track_running_stats=True)\n",
              "        (relu2): ReLU(inplace=True)\n",
              "        (conv2): Conv2d(128, 32, kernel_size=(3, 3), stride=(1, 1), padding=(1, 1), bias=False)\n",
              "      )\n",
              "      (denselayer2): _DenseLayer(\n",
              "        (norm1): BatchNorm2d(288, eps=1e-05, momentum=0.1, affine=True, track_running_stats=True)\n",
              "        (relu1): ReLU(inplace=True)\n",
              "        (conv1): Conv2d(288, 128, kernel_size=(1, 1), stride=(1, 1), bias=False)\n",
              "        (norm2): BatchNorm2d(128, eps=1e-05, momentum=0.1, affine=True, track_running_stats=True)\n",
              "        (relu2): ReLU(inplace=True)\n",
              "        (conv2): Conv2d(128, 32, kernel_size=(3, 3), stride=(1, 1), padding=(1, 1), bias=False)\n",
              "      )\n",
              "      (denselayer3): _DenseLayer(\n",
              "        (norm1): BatchNorm2d(320, eps=1e-05, momentum=0.1, affine=True, track_running_stats=True)\n",
              "        (relu1): ReLU(inplace=True)\n",
              "        (conv1): Conv2d(320, 128, kernel_size=(1, 1), stride=(1, 1), bias=False)\n",
              "        (norm2): BatchNorm2d(128, eps=1e-05, momentum=0.1, affine=True, track_running_stats=True)\n",
              "        (relu2): ReLU(inplace=True)\n",
              "        (conv2): Conv2d(128, 32, kernel_size=(3, 3), stride=(1, 1), padding=(1, 1), bias=False)\n",
              "      )\n",
              "      (denselayer4): _DenseLayer(\n",
              "        (norm1): BatchNorm2d(352, eps=1e-05, momentum=0.1, affine=True, track_running_stats=True)\n",
              "        (relu1): ReLU(inplace=True)\n",
              "        (conv1): Conv2d(352, 128, kernel_size=(1, 1), stride=(1, 1), bias=False)\n",
              "        (norm2): BatchNorm2d(128, eps=1e-05, momentum=0.1, affine=True, track_running_stats=True)\n",
              "        (relu2): ReLU(inplace=True)\n",
              "        (conv2): Conv2d(128, 32, kernel_size=(3, 3), stride=(1, 1), padding=(1, 1), bias=False)\n",
              "      )\n",
              "      (denselayer5): _DenseLayer(\n",
              "        (norm1): BatchNorm2d(384, eps=1e-05, momentum=0.1, affine=True, track_running_stats=True)\n",
              "        (relu1): ReLU(inplace=True)\n",
              "        (conv1): Conv2d(384, 128, kernel_size=(1, 1), stride=(1, 1), bias=False)\n",
              "        (norm2): BatchNorm2d(128, eps=1e-05, momentum=0.1, affine=True, track_running_stats=True)\n",
              "        (relu2): ReLU(inplace=True)\n",
              "        (conv2): Conv2d(128, 32, kernel_size=(3, 3), stride=(1, 1), padding=(1, 1), bias=False)\n",
              "      )\n",
              "      (denselayer6): _DenseLayer(\n",
              "        (norm1): BatchNorm2d(416, eps=1e-05, momentum=0.1, affine=True, track_running_stats=True)\n",
              "        (relu1): ReLU(inplace=True)\n",
              "        (conv1): Conv2d(416, 128, kernel_size=(1, 1), stride=(1, 1), bias=False)\n",
              "        (norm2): BatchNorm2d(128, eps=1e-05, momentum=0.1, affine=True, track_running_stats=True)\n",
              "        (relu2): ReLU(inplace=True)\n",
              "        (conv2): Conv2d(128, 32, kernel_size=(3, 3), stride=(1, 1), padding=(1, 1), bias=False)\n",
              "      )\n",
              "      (denselayer7): _DenseLayer(\n",
              "        (norm1): BatchNorm2d(448, eps=1e-05, momentum=0.1, affine=True, track_running_stats=True)\n",
              "        (relu1): ReLU(inplace=True)\n",
              "        (conv1): Conv2d(448, 128, kernel_size=(1, 1), stride=(1, 1), bias=False)\n",
              "        (norm2): BatchNorm2d(128, eps=1e-05, momentum=0.1, affine=True, track_running_stats=True)\n",
              "        (relu2): ReLU(inplace=True)\n",
              "        (conv2): Conv2d(128, 32, kernel_size=(3, 3), stride=(1, 1), padding=(1, 1), bias=False)\n",
              "      )\n",
              "      (denselayer8): _DenseLayer(\n",
              "        (norm1): BatchNorm2d(480, eps=1e-05, momentum=0.1, affine=True, track_running_stats=True)\n",
              "        (relu1): ReLU(inplace=True)\n",
              "        (conv1): Conv2d(480, 128, kernel_size=(1, 1), stride=(1, 1), bias=False)\n",
              "        (norm2): BatchNorm2d(128, eps=1e-05, momentum=0.1, affine=True, track_running_stats=True)\n",
              "        (relu2): ReLU(inplace=True)\n",
              "        (conv2): Conv2d(128, 32, kernel_size=(3, 3), stride=(1, 1), padding=(1, 1), bias=False)\n",
              "      )\n",
              "      (denselayer9): _DenseLayer(\n",
              "        (norm1): BatchNorm2d(512, eps=1e-05, momentum=0.1, affine=True, track_running_stats=True)\n",
              "        (relu1): ReLU(inplace=True)\n",
              "        (conv1): Conv2d(512, 128, kernel_size=(1, 1), stride=(1, 1), bias=False)\n",
              "        (norm2): BatchNorm2d(128, eps=1e-05, momentum=0.1, affine=True, track_running_stats=True)\n",
              "        (relu2): ReLU(inplace=True)\n",
              "        (conv2): Conv2d(128, 32, kernel_size=(3, 3), stride=(1, 1), padding=(1, 1), bias=False)\n",
              "      )\n",
              "      (denselayer10): _DenseLayer(\n",
              "        (norm1): BatchNorm2d(544, eps=1e-05, momentum=0.1, affine=True, track_running_stats=True)\n",
              "        (relu1): ReLU(inplace=True)\n",
              "        (conv1): Conv2d(544, 128, kernel_size=(1, 1), stride=(1, 1), bias=False)\n",
              "        (norm2): BatchNorm2d(128, eps=1e-05, momentum=0.1, affine=True, track_running_stats=True)\n",
              "        (relu2): ReLU(inplace=True)\n",
              "        (conv2): Conv2d(128, 32, kernel_size=(3, 3), stride=(1, 1), padding=(1, 1), bias=False)\n",
              "      )\n",
              "      (denselayer11): _DenseLayer(\n",
              "        (norm1): BatchNorm2d(576, eps=1e-05, momentum=0.1, affine=True, track_running_stats=True)\n",
              "        (relu1): ReLU(inplace=True)\n",
              "        (conv1): Conv2d(576, 128, kernel_size=(1, 1), stride=(1, 1), bias=False)\n",
              "        (norm2): BatchNorm2d(128, eps=1e-05, momentum=0.1, affine=True, track_running_stats=True)\n",
              "        (relu2): ReLU(inplace=True)\n",
              "        (conv2): Conv2d(128, 32, kernel_size=(3, 3), stride=(1, 1), padding=(1, 1), bias=False)\n",
              "      )\n",
              "      (denselayer12): _DenseLayer(\n",
              "        (norm1): BatchNorm2d(608, eps=1e-05, momentum=0.1, affine=True, track_running_stats=True)\n",
              "        (relu1): ReLU(inplace=True)\n",
              "        (conv1): Conv2d(608, 128, kernel_size=(1, 1), stride=(1, 1), bias=False)\n",
              "        (norm2): BatchNorm2d(128, eps=1e-05, momentum=0.1, affine=True, track_running_stats=True)\n",
              "        (relu2): ReLU(inplace=True)\n",
              "        (conv2): Conv2d(128, 32, kernel_size=(3, 3), stride=(1, 1), padding=(1, 1), bias=False)\n",
              "      )\n",
              "      (denselayer13): _DenseLayer(\n",
              "        (norm1): BatchNorm2d(640, eps=1e-05, momentum=0.1, affine=True, track_running_stats=True)\n",
              "        (relu1): ReLU(inplace=True)\n",
              "        (conv1): Conv2d(640, 128, kernel_size=(1, 1), stride=(1, 1), bias=False)\n",
              "        (norm2): BatchNorm2d(128, eps=1e-05, momentum=0.1, affine=True, track_running_stats=True)\n",
              "        (relu2): ReLU(inplace=True)\n",
              "        (conv2): Conv2d(128, 32, kernel_size=(3, 3), stride=(1, 1), padding=(1, 1), bias=False)\n",
              "      )\n",
              "      (denselayer14): _DenseLayer(\n",
              "        (norm1): BatchNorm2d(672, eps=1e-05, momentum=0.1, affine=True, track_running_stats=True)\n",
              "        (relu1): ReLU(inplace=True)\n",
              "        (conv1): Conv2d(672, 128, kernel_size=(1, 1), stride=(1, 1), bias=False)\n",
              "        (norm2): BatchNorm2d(128, eps=1e-05, momentum=0.1, affine=True, track_running_stats=True)\n",
              "        (relu2): ReLU(inplace=True)\n",
              "        (conv2): Conv2d(128, 32, kernel_size=(3, 3), stride=(1, 1), padding=(1, 1), bias=False)\n",
              "      )\n",
              "      (denselayer15): _DenseLayer(\n",
              "        (norm1): BatchNorm2d(704, eps=1e-05, momentum=0.1, affine=True, track_running_stats=True)\n",
              "        (relu1): ReLU(inplace=True)\n",
              "        (conv1): Conv2d(704, 128, kernel_size=(1, 1), stride=(1, 1), bias=False)\n",
              "        (norm2): BatchNorm2d(128, eps=1e-05, momentum=0.1, affine=True, track_running_stats=True)\n",
              "        (relu2): ReLU(inplace=True)\n",
              "        (conv2): Conv2d(128, 32, kernel_size=(3, 3), stride=(1, 1), padding=(1, 1), bias=False)\n",
              "      )\n",
              "      (denselayer16): _DenseLayer(\n",
              "        (norm1): BatchNorm2d(736, eps=1e-05, momentum=0.1, affine=True, track_running_stats=True)\n",
              "        (relu1): ReLU(inplace=True)\n",
              "        (conv1): Conv2d(736, 128, kernel_size=(1, 1), stride=(1, 1), bias=False)\n",
              "        (norm2): BatchNorm2d(128, eps=1e-05, momentum=0.1, affine=True, track_running_stats=True)\n",
              "        (relu2): ReLU(inplace=True)\n",
              "        (conv2): Conv2d(128, 32, kernel_size=(3, 3), stride=(1, 1), padding=(1, 1), bias=False)\n",
              "      )\n",
              "      (denselayer17): _DenseLayer(\n",
              "        (norm1): BatchNorm2d(768, eps=1e-05, momentum=0.1, affine=True, track_running_stats=True)\n",
              "        (relu1): ReLU(inplace=True)\n",
              "        (conv1): Conv2d(768, 128, kernel_size=(1, 1), stride=(1, 1), bias=False)\n",
              "        (norm2): BatchNorm2d(128, eps=1e-05, momentum=0.1, affine=True, track_running_stats=True)\n",
              "        (relu2): ReLU(inplace=True)\n",
              "        (conv2): Conv2d(128, 32, kernel_size=(3, 3), stride=(1, 1), padding=(1, 1), bias=False)\n",
              "      )\n",
              "      (denselayer18): _DenseLayer(\n",
              "        (norm1): BatchNorm2d(800, eps=1e-05, momentum=0.1, affine=True, track_running_stats=True)\n",
              "        (relu1): ReLU(inplace=True)\n",
              "        (conv1): Conv2d(800, 128, kernel_size=(1, 1), stride=(1, 1), bias=False)\n",
              "        (norm2): BatchNorm2d(128, eps=1e-05, momentum=0.1, affine=True, track_running_stats=True)\n",
              "        (relu2): ReLU(inplace=True)\n",
              "        (conv2): Conv2d(128, 32, kernel_size=(3, 3), stride=(1, 1), padding=(1, 1), bias=False)\n",
              "      )\n",
              "      (denselayer19): _DenseLayer(\n",
              "        (norm1): BatchNorm2d(832, eps=1e-05, momentum=0.1, affine=True, track_running_stats=True)\n",
              "        (relu1): ReLU(inplace=True)\n",
              "        (conv1): Conv2d(832, 128, kernel_size=(1, 1), stride=(1, 1), bias=False)\n",
              "        (norm2): BatchNorm2d(128, eps=1e-05, momentum=0.1, affine=True, track_running_stats=True)\n",
              "        (relu2): ReLU(inplace=True)\n",
              "        (conv2): Conv2d(128, 32, kernel_size=(3, 3), stride=(1, 1), padding=(1, 1), bias=False)\n",
              "      )\n",
              "      (denselayer20): _DenseLayer(\n",
              "        (norm1): BatchNorm2d(864, eps=1e-05, momentum=0.1, affine=True, track_running_stats=True)\n",
              "        (relu1): ReLU(inplace=True)\n",
              "        (conv1): Conv2d(864, 128, kernel_size=(1, 1), stride=(1, 1), bias=False)\n",
              "        (norm2): BatchNorm2d(128, eps=1e-05, momentum=0.1, affine=True, track_running_stats=True)\n",
              "        (relu2): ReLU(inplace=True)\n",
              "        (conv2): Conv2d(128, 32, kernel_size=(3, 3), stride=(1, 1), padding=(1, 1), bias=False)\n",
              "      )\n",
              "      (denselayer21): _DenseLayer(\n",
              "        (norm1): BatchNorm2d(896, eps=1e-05, momentum=0.1, affine=True, track_running_stats=True)\n",
              "        (relu1): ReLU(inplace=True)\n",
              "        (conv1): Conv2d(896, 128, kernel_size=(1, 1), stride=(1, 1), bias=False)\n",
              "        (norm2): BatchNorm2d(128, eps=1e-05, momentum=0.1, affine=True, track_running_stats=True)\n",
              "        (relu2): ReLU(inplace=True)\n",
              "        (conv2): Conv2d(128, 32, kernel_size=(3, 3), stride=(1, 1), padding=(1, 1), bias=False)\n",
              "      )\n",
              "      (denselayer22): _DenseLayer(\n",
              "        (norm1): BatchNorm2d(928, eps=1e-05, momentum=0.1, affine=True, track_running_stats=True)\n",
              "        (relu1): ReLU(inplace=True)\n",
              "        (conv1): Conv2d(928, 128, kernel_size=(1, 1), stride=(1, 1), bias=False)\n",
              "        (norm2): BatchNorm2d(128, eps=1e-05, momentum=0.1, affine=True, track_running_stats=True)\n",
              "        (relu2): ReLU(inplace=True)\n",
              "        (conv2): Conv2d(128, 32, kernel_size=(3, 3), stride=(1, 1), padding=(1, 1), bias=False)\n",
              "      )\n",
              "      (denselayer23): _DenseLayer(\n",
              "        (norm1): BatchNorm2d(960, eps=1e-05, momentum=0.1, affine=True, track_running_stats=True)\n",
              "        (relu1): ReLU(inplace=True)\n",
              "        (conv1): Conv2d(960, 128, kernel_size=(1, 1), stride=(1, 1), bias=False)\n",
              "        (norm2): BatchNorm2d(128, eps=1e-05, momentum=0.1, affine=True, track_running_stats=True)\n",
              "        (relu2): ReLU(inplace=True)\n",
              "        (conv2): Conv2d(128, 32, kernel_size=(3, 3), stride=(1, 1), padding=(1, 1), bias=False)\n",
              "      )\n",
              "      (denselayer24): _DenseLayer(\n",
              "        (norm1): BatchNorm2d(992, eps=1e-05, momentum=0.1, affine=True, track_running_stats=True)\n",
              "        (relu1): ReLU(inplace=True)\n",
              "        (conv1): Conv2d(992, 128, kernel_size=(1, 1), stride=(1, 1), bias=False)\n",
              "        (norm2): BatchNorm2d(128, eps=1e-05, momentum=0.1, affine=True, track_running_stats=True)\n",
              "        (relu2): ReLU(inplace=True)\n",
              "        (conv2): Conv2d(128, 32, kernel_size=(3, 3), stride=(1, 1), padding=(1, 1), bias=False)\n",
              "      )\n",
              "    )\n",
              "    (transition3): _Transition(\n",
              "      (norm): BatchNorm2d(1024, eps=1e-05, momentum=0.1, affine=True, track_running_stats=True)\n",
              "      (relu): ReLU(inplace=True)\n",
              "      (conv): Conv2d(1024, 512, kernel_size=(1, 1), stride=(1, 1), bias=False)\n",
              "      (pool): AvgPool2d(kernel_size=2, stride=2, padding=0)\n",
              "    )\n",
              "    (denseblock4): _DenseBlock(\n",
              "      (denselayer1): _DenseLayer(\n",
              "        (norm1): BatchNorm2d(512, eps=1e-05, momentum=0.1, affine=True, track_running_stats=True)\n",
              "        (relu1): ReLU(inplace=True)\n",
              "        (conv1): Conv2d(512, 128, kernel_size=(1, 1), stride=(1, 1), bias=False)\n",
              "        (norm2): BatchNorm2d(128, eps=1e-05, momentum=0.1, affine=True, track_running_stats=True)\n",
              "        (relu2): ReLU(inplace=True)\n",
              "        (conv2): Conv2d(128, 32, kernel_size=(3, 3), stride=(1, 1), padding=(1, 1), bias=False)\n",
              "      )\n",
              "      (denselayer2): _DenseLayer(\n",
              "        (norm1): BatchNorm2d(544, eps=1e-05, momentum=0.1, affine=True, track_running_stats=True)\n",
              "        (relu1): ReLU(inplace=True)\n",
              "        (conv1): Conv2d(544, 128, kernel_size=(1, 1), stride=(1, 1), bias=False)\n",
              "        (norm2): BatchNorm2d(128, eps=1e-05, momentum=0.1, affine=True, track_running_stats=True)\n",
              "        (relu2): ReLU(inplace=True)\n",
              "        (conv2): Conv2d(128, 32, kernel_size=(3, 3), stride=(1, 1), padding=(1, 1), bias=False)\n",
              "      )\n",
              "      (denselayer3): _DenseLayer(\n",
              "        (norm1): BatchNorm2d(576, eps=1e-05, momentum=0.1, affine=True, track_running_stats=True)\n",
              "        (relu1): ReLU(inplace=True)\n",
              "        (conv1): Conv2d(576, 128, kernel_size=(1, 1), stride=(1, 1), bias=False)\n",
              "        (norm2): BatchNorm2d(128, eps=1e-05, momentum=0.1, affine=True, track_running_stats=True)\n",
              "        (relu2): ReLU(inplace=True)\n",
              "        (conv2): Conv2d(128, 32, kernel_size=(3, 3), stride=(1, 1), padding=(1, 1), bias=False)\n",
              "      )\n",
              "      (denselayer4): _DenseLayer(\n",
              "        (norm1): BatchNorm2d(608, eps=1e-05, momentum=0.1, affine=True, track_running_stats=True)\n",
              "        (relu1): ReLU(inplace=True)\n",
              "        (conv1): Conv2d(608, 128, kernel_size=(1, 1), stride=(1, 1), bias=False)\n",
              "        (norm2): BatchNorm2d(128, eps=1e-05, momentum=0.1, affine=True, track_running_stats=True)\n",
              "        (relu2): ReLU(inplace=True)\n",
              "        (conv2): Conv2d(128, 32, kernel_size=(3, 3), stride=(1, 1), padding=(1, 1), bias=False)\n",
              "      )\n",
              "      (denselayer5): _DenseLayer(\n",
              "        (norm1): BatchNorm2d(640, eps=1e-05, momentum=0.1, affine=True, track_running_stats=True)\n",
              "        (relu1): ReLU(inplace=True)\n",
              "        (conv1): Conv2d(640, 128, kernel_size=(1, 1), stride=(1, 1), bias=False)\n",
              "        (norm2): BatchNorm2d(128, eps=1e-05, momentum=0.1, affine=True, track_running_stats=True)\n",
              "        (relu2): ReLU(inplace=True)\n",
              "        (conv2): Conv2d(128, 32, kernel_size=(3, 3), stride=(1, 1), padding=(1, 1), bias=False)\n",
              "      )\n",
              "      (denselayer6): _DenseLayer(\n",
              "        (norm1): BatchNorm2d(672, eps=1e-05, momentum=0.1, affine=True, track_running_stats=True)\n",
              "        (relu1): ReLU(inplace=True)\n",
              "        (conv1): Conv2d(672, 128, kernel_size=(1, 1), stride=(1, 1), bias=False)\n",
              "        (norm2): BatchNorm2d(128, eps=1e-05, momentum=0.1, affine=True, track_running_stats=True)\n",
              "        (relu2): ReLU(inplace=True)\n",
              "        (conv2): Conv2d(128, 32, kernel_size=(3, 3), stride=(1, 1), padding=(1, 1), bias=False)\n",
              "      )\n",
              "      (denselayer7): _DenseLayer(\n",
              "        (norm1): BatchNorm2d(704, eps=1e-05, momentum=0.1, affine=True, track_running_stats=True)\n",
              "        (relu1): ReLU(inplace=True)\n",
              "        (conv1): Conv2d(704, 128, kernel_size=(1, 1), stride=(1, 1), bias=False)\n",
              "        (norm2): BatchNorm2d(128, eps=1e-05, momentum=0.1, affine=True, track_running_stats=True)\n",
              "        (relu2): ReLU(inplace=True)\n",
              "        (conv2): Conv2d(128, 32, kernel_size=(3, 3), stride=(1, 1), padding=(1, 1), bias=False)\n",
              "      )\n",
              "      (denselayer8): _DenseLayer(\n",
              "        (norm1): BatchNorm2d(736, eps=1e-05, momentum=0.1, affine=True, track_running_stats=True)\n",
              "        (relu1): ReLU(inplace=True)\n",
              "        (conv1): Conv2d(736, 128, kernel_size=(1, 1), stride=(1, 1), bias=False)\n",
              "        (norm2): BatchNorm2d(128, eps=1e-05, momentum=0.1, affine=True, track_running_stats=True)\n",
              "        (relu2): ReLU(inplace=True)\n",
              "        (conv2): Conv2d(128, 32, kernel_size=(3, 3), stride=(1, 1), padding=(1, 1), bias=False)\n",
              "      )\n",
              "      (denselayer9): _DenseLayer(\n",
              "        (norm1): BatchNorm2d(768, eps=1e-05, momentum=0.1, affine=True, track_running_stats=True)\n",
              "        (relu1): ReLU(inplace=True)\n",
              "        (conv1): Conv2d(768, 128, kernel_size=(1, 1), stride=(1, 1), bias=False)\n",
              "        (norm2): BatchNorm2d(128, eps=1e-05, momentum=0.1, affine=True, track_running_stats=True)\n",
              "        (relu2): ReLU(inplace=True)\n",
              "        (conv2): Conv2d(128, 32, kernel_size=(3, 3), stride=(1, 1), padding=(1, 1), bias=False)\n",
              "      )\n",
              "      (denselayer10): _DenseLayer(\n",
              "        (norm1): BatchNorm2d(800, eps=1e-05, momentum=0.1, affine=True, track_running_stats=True)\n",
              "        (relu1): ReLU(inplace=True)\n",
              "        (conv1): Conv2d(800, 128, kernel_size=(1, 1), stride=(1, 1), bias=False)\n",
              "        (norm2): BatchNorm2d(128, eps=1e-05, momentum=0.1, affine=True, track_running_stats=True)\n",
              "        (relu2): ReLU(inplace=True)\n",
              "        (conv2): Conv2d(128, 32, kernel_size=(3, 3), stride=(1, 1), padding=(1, 1), bias=False)\n",
              "      )\n",
              "      (denselayer11): _DenseLayer(\n",
              "        (norm1): BatchNorm2d(832, eps=1e-05, momentum=0.1, affine=True, track_running_stats=True)\n",
              "        (relu1): ReLU(inplace=True)\n",
              "        (conv1): Conv2d(832, 128, kernel_size=(1, 1), stride=(1, 1), bias=False)\n",
              "        (norm2): BatchNorm2d(128, eps=1e-05, momentum=0.1, affine=True, track_running_stats=True)\n",
              "        (relu2): ReLU(inplace=True)\n",
              "        (conv2): Conv2d(128, 32, kernel_size=(3, 3), stride=(1, 1), padding=(1, 1), bias=False)\n",
              "      )\n",
              "      (denselayer12): _DenseLayer(\n",
              "        (norm1): BatchNorm2d(864, eps=1e-05, momentum=0.1, affine=True, track_running_stats=True)\n",
              "        (relu1): ReLU(inplace=True)\n",
              "        (conv1): Conv2d(864, 128, kernel_size=(1, 1), stride=(1, 1), bias=False)\n",
              "        (norm2): BatchNorm2d(128, eps=1e-05, momentum=0.1, affine=True, track_running_stats=True)\n",
              "        (relu2): ReLU(inplace=True)\n",
              "        (conv2): Conv2d(128, 32, kernel_size=(3, 3), stride=(1, 1), padding=(1, 1), bias=False)\n",
              "      )\n",
              "      (denselayer13): _DenseLayer(\n",
              "        (norm1): BatchNorm2d(896, eps=1e-05, momentum=0.1, affine=True, track_running_stats=True)\n",
              "        (relu1): ReLU(inplace=True)\n",
              "        (conv1): Conv2d(896, 128, kernel_size=(1, 1), stride=(1, 1), bias=False)\n",
              "        (norm2): BatchNorm2d(128, eps=1e-05, momentum=0.1, affine=True, track_running_stats=True)\n",
              "        (relu2): ReLU(inplace=True)\n",
              "        (conv2): Conv2d(128, 32, kernel_size=(3, 3), stride=(1, 1), padding=(1, 1), bias=False)\n",
              "      )\n",
              "      (denselayer14): _DenseLayer(\n",
              "        (norm1): BatchNorm2d(928, eps=1e-05, momentum=0.1, affine=True, track_running_stats=True)\n",
              "        (relu1): ReLU(inplace=True)\n",
              "        (conv1): Conv2d(928, 128, kernel_size=(1, 1), stride=(1, 1), bias=False)\n",
              "        (norm2): BatchNorm2d(128, eps=1e-05, momentum=0.1, affine=True, track_running_stats=True)\n",
              "        (relu2): ReLU(inplace=True)\n",
              "        (conv2): Conv2d(128, 32, kernel_size=(3, 3), stride=(1, 1), padding=(1, 1), bias=False)\n",
              "      )\n",
              "      (denselayer15): _DenseLayer(\n",
              "        (norm1): BatchNorm2d(960, eps=1e-05, momentum=0.1, affine=True, track_running_stats=True)\n",
              "        (relu1): ReLU(inplace=True)\n",
              "        (conv1): Conv2d(960, 128, kernel_size=(1, 1), stride=(1, 1), bias=False)\n",
              "        (norm2): BatchNorm2d(128, eps=1e-05, momentum=0.1, affine=True, track_running_stats=True)\n",
              "        (relu2): ReLU(inplace=True)\n",
              "        (conv2): Conv2d(128, 32, kernel_size=(3, 3), stride=(1, 1), padding=(1, 1), bias=False)\n",
              "      )\n",
              "      (denselayer16): _DenseLayer(\n",
              "        (norm1): BatchNorm2d(992, eps=1e-05, momentum=0.1, affine=True, track_running_stats=True)\n",
              "        (relu1): ReLU(inplace=True)\n",
              "        (conv1): Conv2d(992, 128, kernel_size=(1, 1), stride=(1, 1), bias=False)\n",
              "        (norm2): BatchNorm2d(128, eps=1e-05, momentum=0.1, affine=True, track_running_stats=True)\n",
              "        (relu2): ReLU(inplace=True)\n",
              "        (conv2): Conv2d(128, 32, kernel_size=(3, 3), stride=(1, 1), padding=(1, 1), bias=False)\n",
              "      )\n",
              "    )\n",
              "    (norm5): BatchNorm2d(1024, eps=1e-05, momentum=0.1, affine=True, track_running_stats=True)\n",
              "  )\n",
              "  (classifier): Sequential(\n",
              "    (0): Linear(in_features=1024, out_features=512, bias=True)\n",
              "    (1): ReLU()\n",
              "    (2): Dropout(p=0.3, inplace=False)\n",
              "    (3): Linear(in_features=512, out_features=10, bias=True)\n",
              "  )\n",
              ")"
            ]
          },
          "metadata": {},
          "execution_count": 12
        }
      ]
    },
    {
      "cell_type": "markdown",
      "source": [
        "### Teacher Model Summary"
      ],
      "metadata": {
        "id": "H3jI83QgE4Wz"
      }
    },
    {
      "cell_type": "code",
      "source": [
        "torchinfo.summary(teacher, (1, 224, 224), batch_dim = 0, col_names = (\"input_size\", \"output_size\", \"num_params\", \"kernel_size\", \"mult_adds\"), verbose = 0)"
      ],
      "metadata": {
        "colab": {
          "base_uri": "https://localhost:8080/"
        },
        "id": "1oEHRv2TmmUS",
        "outputId": "3f120792-039f-40f8-9065-50e84ee3ebc7"
      },
      "execution_count": null,
      "outputs": [
        {
          "output_type": "execute_result",
          "data": {
            "text/plain": [
              "=====================================================================================================================================================================\n",
              "Layer (type:depth-idx)                   Input Shape               Output Shape              Param #                   Kernel Shape              Mult-Adds\n",
              "=====================================================================================================================================================================\n",
              "DenseNet                                 [1, 1, 224, 224]          [1, 10]                   --                        --                        --\n",
              "├─Sequential: 1-1                        [1, 1, 224, 224]          [1, 1024, 14, 14]         --                        --                        --\n",
              "│    └─Conv2d: 2-1                       [1, 1, 224, 224]          [1, 64, 224, 224]         576                       [3, 3]                    28,901,376\n",
              "│    └─BatchNorm2d: 2-2                  [1, 64, 224, 224]         [1, 64, 224, 224]         128                       --                        128\n",
              "│    └─ReLU: 2-3                         [1, 64, 224, 224]         [1, 64, 224, 224]         --                        --                        --\n",
              "│    └─MaxPool2d: 2-4                    [1, 64, 224, 224]         [1, 64, 112, 112]         --                        3                         --\n",
              "│    └─_DenseBlock: 2-5                  [1, 64, 112, 112]         [1, 256, 112, 112]        --                        --                        --\n",
              "│    │    └─_DenseLayer: 3-1             [1, 64, 112, 112]         [1, 32, 112, 112]         45,440                    --                        565,182,848\n",
              "│    │    └─_DenseLayer: 3-2             [1, 64, 112, 112]         [1, 32, 112, 112]         49,600                    --                        616,563,136\n",
              "│    │    └─_DenseLayer: 3-3             [1, 64, 112, 112]         [1, 32, 112, 112]         53,760                    --                        667,943,424\n",
              "│    │    └─_DenseLayer: 3-4             [1, 64, 112, 112]         [1, 32, 112, 112]         57,920                    --                        719,323,712\n",
              "│    │    └─_DenseLayer: 3-5             [1, 64, 112, 112]         [1, 32, 112, 112]         62,080                    --                        770,704,000\n",
              "│    │    └─_DenseLayer: 3-6             [1, 64, 112, 112]         [1, 32, 112, 112]         66,240                    --                        822,084,288\n",
              "│    └─_Transition: 2-6                  [1, 256, 112, 112]        [1, 128, 56, 56]          --                        --                        --\n",
              "│    │    └─BatchNorm2d: 3-7             [1, 256, 112, 112]        [1, 256, 112, 112]        512                       --                        512\n",
              "│    │    └─ReLU: 3-8                    [1, 256, 112, 112]        [1, 256, 112, 112]        --                        --                        --\n",
              "│    │    └─Conv2d: 3-9                  [1, 256, 112, 112]        [1, 128, 112, 112]        32,768                    [1, 1]                    411,041,792\n",
              "│    │    └─AvgPool2d: 3-10              [1, 128, 112, 112]        [1, 128, 56, 56]          --                        2                         --\n",
              "│    └─_DenseBlock: 2-7                  [1, 128, 56, 56]          [1, 512, 56, 56]          --                        --                        --\n",
              "│    │    └─_DenseLayer: 3-11            [1, 128, 56, 56]          [1, 32, 56, 56]           53,760                    --                        166,986,240\n",
              "│    │    └─_DenseLayer: 3-12            [1, 128, 56, 56]          [1, 32, 56, 56]           57,920                    --                        179,831,360\n",
              "│    │    └─_DenseLayer: 3-13            [1, 128, 56, 56]          [1, 32, 56, 56]           62,080                    --                        192,676,480\n",
              "│    │    └─_DenseLayer: 3-14            [1, 128, 56, 56]          [1, 32, 56, 56]           66,240                    --                        205,521,600\n",
              "│    │    └─_DenseLayer: 3-15            [1, 128, 56, 56]          [1, 32, 56, 56]           70,400                    --                        218,366,720\n",
              "│    │    └─_DenseLayer: 3-16            [1, 128, 56, 56]          [1, 32, 56, 56]           74,560                    --                        231,211,840\n",
              "│    │    └─_DenseLayer: 3-17            [1, 128, 56, 56]          [1, 32, 56, 56]           78,720                    --                        244,056,960\n",
              "│    │    └─_DenseLayer: 3-18            [1, 128, 56, 56]          [1, 32, 56, 56]           82,880                    --                        256,902,080\n",
              "│    │    └─_DenseLayer: 3-19            [1, 128, 56, 56]          [1, 32, 56, 56]           87,040                    --                        269,747,200\n",
              "│    │    └─_DenseLayer: 3-20            [1, 128, 56, 56]          [1, 32, 56, 56]           91,200                    --                        282,592,320\n",
              "│    │    └─_DenseLayer: 3-21            [1, 128, 56, 56]          [1, 32, 56, 56]           95,360                    --                        295,437,440\n",
              "│    │    └─_DenseLayer: 3-22            [1, 128, 56, 56]          [1, 32, 56, 56]           99,520                    --                        308,282,560\n",
              "│    └─_Transition: 2-8                  [1, 512, 56, 56]          [1, 256, 28, 28]          --                        --                        --\n",
              "│    │    └─BatchNorm2d: 3-23            [1, 512, 56, 56]          [1, 512, 56, 56]          1,024                     --                        1,024\n",
              "│    │    └─ReLU: 3-24                   [1, 512, 56, 56]          [1, 512, 56, 56]          --                        --                        --\n",
              "│    │    └─Conv2d: 3-25                 [1, 512, 56, 56]          [1, 256, 56, 56]          131,072                   [1, 1]                    411,041,792\n",
              "│    │    └─AvgPool2d: 3-26              [1, 256, 56, 56]          [1, 256, 28, 28]          --                        2                         --\n",
              "│    └─_DenseBlock: 2-9                  [1, 256, 28, 28]          [1, 1024, 28, 28]         --                        --                        --\n",
              "│    │    └─_DenseLayer: 3-27            [1, 256, 28, 28]          [1, 32, 28, 28]           70,400                    --                        54,592,256\n",
              "│    │    └─_DenseLayer: 3-28            [1, 256, 28, 28]          [1, 32, 28, 28]           74,560                    --                        57,803,584\n",
              "│    │    └─_DenseLayer: 3-29            [1, 256, 28, 28]          [1, 32, 28, 28]           78,720                    --                        61,014,912\n",
              "│    │    └─_DenseLayer: 3-30            [1, 256, 28, 28]          [1, 32, 28, 28]           82,880                    --                        64,226,240\n",
              "│    │    └─_DenseLayer: 3-31            [1, 256, 28, 28]          [1, 32, 28, 28]           87,040                    --                        67,437,568\n",
              "│    │    └─_DenseLayer: 3-32            [1, 256, 28, 28]          [1, 32, 28, 28]           91,200                    --                        70,648,896\n",
              "│    │    └─_DenseLayer: 3-33            [1, 256, 28, 28]          [1, 32, 28, 28]           95,360                    --                        73,860,224\n",
              "│    │    └─_DenseLayer: 3-34            [1, 256, 28, 28]          [1, 32, 28, 28]           99,520                    --                        77,071,552\n",
              "│    │    └─_DenseLayer: 3-35            [1, 256, 28, 28]          [1, 32, 28, 28]           103,680                   --                        80,282,880\n",
              "│    │    └─_DenseLayer: 3-36            [1, 256, 28, 28]          [1, 32, 28, 28]           107,840                   --                        83,494,208\n",
              "│    │    └─_DenseLayer: 3-37            [1, 256, 28, 28]          [1, 32, 28, 28]           112,000                   --                        86,705,536\n",
              "│    │    └─_DenseLayer: 3-38            [1, 256, 28, 28]          [1, 32, 28, 28]           116,160                   --                        89,916,864\n",
              "│    │    └─_DenseLayer: 3-39            [1, 256, 28, 28]          [1, 32, 28, 28]           120,320                   --                        93,128,192\n",
              "│    │    └─_DenseLayer: 3-40            [1, 256, 28, 28]          [1, 32, 28, 28]           124,480                   --                        96,339,520\n",
              "│    │    └─_DenseLayer: 3-41            [1, 256, 28, 28]          [1, 32, 28, 28]           128,640                   --                        99,550,848\n",
              "│    │    └─_DenseLayer: 3-42            [1, 256, 28, 28]          [1, 32, 28, 28]           132,800                   --                        102,762,176\n",
              "│    │    └─_DenseLayer: 3-43            [1, 256, 28, 28]          [1, 32, 28, 28]           136,960                   --                        105,973,504\n",
              "│    │    └─_DenseLayer: 3-44            [1, 256, 28, 28]          [1, 32, 28, 28]           141,120                   --                        109,184,832\n",
              "│    │    └─_DenseLayer: 3-45            [1, 256, 28, 28]          [1, 32, 28, 28]           145,280                   --                        112,396,160\n",
              "│    │    └─_DenseLayer: 3-46            [1, 256, 28, 28]          [1, 32, 28, 28]           149,440                   --                        115,607,488\n",
              "│    │    └─_DenseLayer: 3-47            [1, 256, 28, 28]          [1, 32, 28, 28]           153,600                   --                        118,818,816\n",
              "│    │    └─_DenseLayer: 3-48            [1, 256, 28, 28]          [1, 32, 28, 28]           157,760                   --                        122,030,144\n",
              "│    │    └─_DenseLayer: 3-49            [1, 256, 28, 28]          [1, 32, 28, 28]           161,920                   --                        125,241,472\n",
              "│    │    └─_DenseLayer: 3-50            [1, 256, 28, 28]          [1, 32, 28, 28]           166,080                   --                        128,452,800\n",
              "│    └─_Transition: 2-10                 [1, 1024, 28, 28]         [1, 512, 14, 14]          --                        --                        --\n",
              "│    │    └─BatchNorm2d: 3-51            [1, 1024, 28, 28]         [1, 1024, 28, 28]         2,048                     --                        2,048\n",
              "│    │    └─ReLU: 3-52                   [1, 1024, 28, 28]         [1, 1024, 28, 28]         --                        --                        --\n",
              "│    │    └─Conv2d: 3-53                 [1, 1024, 28, 28]         [1, 512, 28, 28]          524,288                   [1, 1]                    411,041,792\n",
              "│    │    └─AvgPool2d: 3-54              [1, 512, 28, 28]          [1, 512, 14, 14]          --                        2                         --\n",
              "│    └─_DenseBlock: 2-11                 [1, 512, 14, 14]          [1, 1024, 14, 14]         --                        --                        --\n",
              "│    │    └─_DenseLayer: 3-55            [1, 512, 14, 14]          [1, 32, 14, 14]           103,680                   --                        20,071,680\n",
              "│    │    └─_DenseLayer: 3-56            [1, 512, 14, 14]          [1, 32, 14, 14]           107,840                   --                        20,874,560\n",
              "│    │    └─_DenseLayer: 3-57            [1, 512, 14, 14]          [1, 32, 14, 14]           112,000                   --                        21,677,440\n",
              "│    │    └─_DenseLayer: 3-58            [1, 512, 14, 14]          [1, 32, 14, 14]           116,160                   --                        22,480,320\n",
              "│    │    └─_DenseLayer: 3-59            [1, 512, 14, 14]          [1, 32, 14, 14]           120,320                   --                        23,283,200\n",
              "│    │    └─_DenseLayer: 3-60            [1, 512, 14, 14]          [1, 32, 14, 14]           124,480                   --                        24,086,080\n",
              "│    │    └─_DenseLayer: 3-61            [1, 512, 14, 14]          [1, 32, 14, 14]           128,640                   --                        24,888,960\n",
              "│    │    └─_DenseLayer: 3-62            [1, 512, 14, 14]          [1, 32, 14, 14]           132,800                   --                        25,691,840\n",
              "│    │    └─_DenseLayer: 3-63            [1, 512, 14, 14]          [1, 32, 14, 14]           136,960                   --                        26,494,720\n",
              "│    │    └─_DenseLayer: 3-64            [1, 512, 14, 14]          [1, 32, 14, 14]           141,120                   --                        27,297,600\n",
              "│    │    └─_DenseLayer: 3-65            [1, 512, 14, 14]          [1, 32, 14, 14]           145,280                   --                        28,100,480\n",
              "│    │    └─_DenseLayer: 3-66            [1, 512, 14, 14]          [1, 32, 14, 14]           149,440                   --                        28,903,360\n",
              "│    │    └─_DenseLayer: 3-67            [1, 512, 14, 14]          [1, 32, 14, 14]           153,600                   --                        29,706,240\n",
              "│    │    └─_DenseLayer: 3-68            [1, 512, 14, 14]          [1, 32, 14, 14]           157,760                   --                        30,509,120\n",
              "│    │    └─_DenseLayer: 3-69            [1, 512, 14, 14]          [1, 32, 14, 14]           161,920                   --                        31,312,000\n",
              "│    │    └─_DenseLayer: 3-70            [1, 512, 14, 14]          [1, 32, 14, 14]           166,080                   --                        32,114,880\n",
              "│    └─BatchNorm2d: 2-12                 [1, 1024, 14, 14]         [1, 1024, 14, 14]         2,048                     --                        2,048\n",
              "├─Sequential: 1-2                        [1, 1024]                 [1, 10]                   --                        --                        --\n",
              "│    └─Linear: 2-13                      [1, 1024]                 [1, 512]                  524,800                   --                        524,800\n",
              "│    └─ReLU: 2-14                        [1, 512]                  [1, 512]                  --                        --                        --\n",
              "│    └─Dropout: 2-15                     [1, 512]                  [1, 512]                  --                        --                        --\n",
              "│    └─Linear: 2-16                      [1, 512]                  [1, 10]                   5,130                     --                        5,130\n",
              "=====================================================================================================================================================================\n",
              "Total params: 7,474,954\n",
              "Trainable params: 7,474,954\n",
              "Non-trainable params: 0\n",
              "Total mult-adds (G): 10.89\n",
              "=====================================================================================================================================================================\n",
              "Input size (MB): 0.20\n",
              "Forward/backward pass size (MB): 722.14\n",
              "Params size (MB): 29.90\n",
              "Estimated Total Size (MB): 752.24\n",
              "====================================================================================================================================================================="
            ]
          },
          "metadata": {},
          "execution_count": 13
        }
      ]
    },
    {
      "cell_type": "markdown",
      "source": [
        "### Train Teacher Model"
      ],
      "metadata": {
        "id": "C0_GwCMtJYkJ"
      }
    },
    {
      "cell_type": "code",
      "source": [
        "criterion = nn.CrossEntropyLoss()\n",
        "optimizer = optim.SGD(teacher.parameters(), lr=0.001)"
      ],
      "metadata": {
        "id": "3IYM62Y3K1WM"
      },
      "execution_count": null,
      "outputs": []
    },
    {
      "cell_type": "code",
      "source": [
        "epochs = 35"
      ],
      "metadata": {
        "id": "MMxoyRmI0MAg"
      },
      "execution_count": null,
      "outputs": []
    },
    {
      "cell_type": "code",
      "execution_count": null,
      "metadata": {
        "id": "rhIfdJxHRwFV",
        "colab": {
          "base_uri": "https://localhost:8080/",
          "height": 609
        },
        "outputId": "ff130244-e3d6-4fda-be03-5a2974e47c7d"
      },
      "outputs": [
        {
          "output_type": "stream",
          "name": "stdout",
          "text": [
            "Epoch 1: Train Loss==> 1.47 Train_Acc==> 57.908 % Val Loss==> 0.84  Val_Acc==> 75.025 %\n",
            "Epoch 2: Train Loss==> 0.67 Train_Acc==> 78.252 % Val Loss==> 0.57  Val_Acc==> 80.303 %\n",
            "Epoch 3: Train Loss==> 0.52 Train_Acc==> 82.046 % Val Loss==> 0.48  Val_Acc==> 83.319 %\n",
            "Epoch 4: Train Loss==> 0.44 Train_Acc==> 84.925 % Val Loss==> 0.42  Val_Acc==> 85.580 %\n",
            "Epoch 5: Train Loss==> 0.39 Train_Acc==> 86.533 % Val Loss==> 0.39  Val_Acc==> 86.411 %\n",
            "Epoch 6: Train Loss==> 0.35 Train_Acc==> 87.644 % Val Loss==> 0.36  Val_Acc==> 87.184 %\n",
            "Epoch 7: Train Loss==> 0.32 Train_Acc==> 88.640 % Val Loss==> 0.34  Val_Acc==> 88.065 %\n",
            "Epoch 8: Train Loss==> 0.30 Train_Acc==> 89.531 % Val Loss==> 0.33  Val_Acc==> 88.539 %\n",
            "Epoch 9: Train Loss==> 0.28 Train_Acc==> 90.237 % Val Loss==> 0.32  Val_Acc==> 88.713 %\n",
            "Epoch 10: Train Loss==> 0.26 Train_Acc==> 90.900 % Val Loss==> 0.31  Val_Acc==> 88.921 %\n",
            "Epoch 11: Train Loss==> 0.24 Train_Acc==> 91.490 % Val Loss==> 0.31  Val_Acc==> 89.195 %\n",
            "Epoch 12: Train Loss==> 0.22 Train_Acc==> 92.185 % Val Loss==> 0.31  Val_Acc==> 89.328 %\n",
            "Epoch 13: Train Loss==> 0.21 Train_Acc==> 92.712 % Val Loss==> 0.30  Val_Acc==> 89.694 %\n",
            "Epoch 14: Train Loss==> 0.19 Train_Acc==> 93.300 % Val Loss==> 0.30  Val_Acc==> 89.835 %\n",
            "Epoch 15: Train Loss==> 0.18 Train_Acc==> 93.625 % Val Loss==> 0.30  Val_Acc==> 89.794 %\n",
            "Epoch 16: Train Loss==> 0.17 Train_Acc==> 94.125 % Val Loss==> 0.30  Val_Acc==> 89.669 %\n",
            "Epoch 17: Train Loss==> 0.15 Train_Acc==> 94.754 % Val Loss==> 0.30  Val_Acc==> 90.085 %\n",
            "Epoch 18: Train Loss==> 0.15 Train_Acc==> 94.981 % Val Loss==> 0.30  Val_Acc==> 90.218 %\n",
            "Epoch 19: Train Loss==> 0.13 Train_Acc==> 95.487 % Val Loss==> 0.31  Val_Acc==> 89.943 %\n",
            "Epoch 20: Train Loss==> 0.12 Train_Acc==> 95.944 % Val Loss==> 0.31  Val_Acc==> 90.085 %\n",
            "Epoch 21: Train Loss==> 0.11 Train_Acc==> 96.269 % Val Loss==> 0.32  Val_Acc==> 90.068 %\n"
          ]
        },
        {
          "output_type": "error",
          "ename": "KeyboardInterrupt",
          "evalue": "ignored",
          "traceback": [
            "\u001b[0;31m---------------------------------------------------------------------------\u001b[0m",
            "\u001b[0;31mKeyboardInterrupt\u001b[0m                         Traceback (most recent call last)",
            "\u001b[0;32m<ipython-input-16-6b04603033f4>\u001b[0m in \u001b[0;36m<cell line: 4>\u001b[0;34m()\u001b[0m\n\u001b[1;32m     34\u001b[0m         \u001b[0mprobs\u001b[0m \u001b[0;34m=\u001b[0m \u001b[0mF\u001b[0m\u001b[0;34m.\u001b[0m\u001b[0msoftmax\u001b[0m\u001b[0;34m(\u001b[0m\u001b[0moutput\u001b[0m\u001b[0;34m,\u001b[0m\u001b[0mdim\u001b[0m\u001b[0;34m=\u001b[0m\u001b[0;36m1\u001b[0m\u001b[0;34m)\u001b[0m\u001b[0;34m\u001b[0m\u001b[0;34m\u001b[0m\u001b[0m\n\u001b[1;32m     35\u001b[0m         \u001b[0mmax_prob\u001b[0m\u001b[0;34m,\u001b[0m\u001b[0mpreds\u001b[0m \u001b[0;34m=\u001b[0m \u001b[0mtorch\u001b[0m\u001b[0;34m.\u001b[0m\u001b[0mmax\u001b[0m\u001b[0;34m(\u001b[0m\u001b[0mprobs\u001b[0m\u001b[0;34m,\u001b[0m\u001b[0mdim\u001b[0m\u001b[0;34m=\u001b[0m\u001b[0;36m1\u001b[0m\u001b[0;34m)\u001b[0m\u001b[0;34m\u001b[0m\u001b[0;34m\u001b[0m\u001b[0m\n\u001b[0;32m---> 36\u001b[0;31m         \u001b[0macc\u001b[0m \u001b[0;34m=\u001b[0m \u001b[0;34m(\u001b[0m\u001b[0mtorch\u001b[0m\u001b[0;34m.\u001b[0m\u001b[0msum\u001b[0m\u001b[0;34m(\u001b[0m\u001b[0mpreds\u001b[0m \u001b[0;34m==\u001b[0m \u001b[0mlbl\u001b[0m\u001b[0;34m)\u001b[0m\u001b[0;34m.\u001b[0m\u001b[0mitem\u001b[0m\u001b[0;34m(\u001b[0m\u001b[0;34m)\u001b[0m \u001b[0;34m/\u001b[0m \u001b[0mlen\u001b[0m\u001b[0;34m(\u001b[0m\u001b[0mpreds\u001b[0m\u001b[0;34m)\u001b[0m\u001b[0;34m)\u001b[0m\u001b[0;34m\u001b[0m\u001b[0;34m\u001b[0m\u001b[0m\n\u001b[0m\u001b[1;32m     37\u001b[0m         \u001b[0ma2\u001b[0m\u001b[0;34m.\u001b[0m\u001b[0mappend\u001b[0m\u001b[0;34m(\u001b[0m\u001b[0macc\u001b[0m\u001b[0;34m)\u001b[0m\u001b[0;34m\u001b[0m\u001b[0;34m\u001b[0m\u001b[0m\n\u001b[1;32m     38\u001b[0m \u001b[0;34m\u001b[0m\u001b[0m\n",
            "\u001b[0;31mKeyboardInterrupt\u001b[0m: "
          ]
        }
      ],
      "source": [
        "train_loss = []; train_acc = []\n",
        "val_loss = []; val_acc = []\n",
        "\n",
        "for epoch in range(epochs):\n",
        "    l1 = []; a1 = []\n",
        "    l2 = []; a2 = []\n",
        "\n",
        "    #start = timer()\n",
        "    for i, (img, labels) in enumerate(trainloader):\n",
        "        img = img.to(device)\n",
        "        labels = labels.to(device)\n",
        "        output = teacher(img)\n",
        "\n",
        "        probs = F.softmax(output,dim=1)\n",
        "        max_prob,preds = torch.max(probs,dim=1)\n",
        "        acc = (torch.sum(preds == labels).item() / len(preds))\n",
        "        a1.append(acc)\n",
        "\n",
        "        loss = criterion(output, labels)\n",
        "        l1.append(loss.item())\n",
        "\n",
        "        loss.backward()\n",
        "        optimizer.step()\n",
        "        optimizer.zero_grad()\n",
        "\n",
        "    for img, lbl in valloader:\n",
        "        img = img.to(device)\n",
        "        lbl = lbl.to(device)\n",
        "        output = teacher(img)\n",
        "\n",
        "        loss = criterion(output,lbl)\n",
        "        l2.append(loss.item())\n",
        "\n",
        "        probs = F.softmax(output,dim=1)\n",
        "        max_prob,preds = torch.max(probs,dim=1)\n",
        "        acc = (torch.sum(preds == lbl).item() / len(preds))\n",
        "        a2.append(acc)\n",
        "\n",
        "    train_loss.append(np.mean(l1))\n",
        "    val_loss.append(np.mean(l2))\n",
        "    train_acc.append(np.mean(a1))\n",
        "    val_acc.append(np.mean(a2))\n",
        "\n",
        "    #end = timer()\n",
        "    #time = end - start\n",
        "    #time = time/60\n",
        "\n",
        "    print(f'Epoch {epoch+1}: Train Loss==> {np.mean(l1):.2f} Train_Acc==> {np.mean(a1)*100 :.3f} % Val Loss==> {np.mean(l2):.2f}  Val_Acc==> {np.mean(a2)*100 :.3f} %')\n",
        "    #print(f'Epoch {epoch+1}: Train Loss==> {np.mean(train_loss):.2f} Train_Acc==> {np.mean(train_acc)*100 :.3f} % Val Loss==> {np.mean(val_loss):.2f} Val_Acc==> {np.mean(val_acc)*100 :.3f} % Time==> {time:.2f} mins')"
      ]
    },
    {
      "cell_type": "markdown",
      "source": [
        "### Epoch vs Loss, Epoch vs Accuracy Graphs"
      ],
      "metadata": {
        "id": "PWTziuU7FIRc"
      }
    },
    {
      "cell_type": "code",
      "source": [
        "epochs=21\n",
        "fig, (ax1, ax2) = plt.subplots(1, 2, figsize=(12, 4))\n",
        "title = fig.suptitle('Performance', fontsize=12)\n",
        "fig.subplots_adjust(top=0.85, wspace=0.3)\n",
        "\n",
        "epoch_list = list(range(1,epochs+1))\n",
        "\n",
        "ax2.plot(epoch_list, train_loss, label='Train Loss')\n",
        "ax2.plot(epoch_list, val_loss, label='Validation Loss')\n",
        "ax2.set_xticks(np.arange(0, epochs+1, 5))\n",
        "ax2.set_ylabel('Loss Value')\n",
        "ax2.set_xlabel('Epoch')\n",
        "ax2.set_title('Loss')\n",
        "l2 = ax2.legend(loc=\"best\")\n",
        "\n",
        "ax1.plot(epoch_list, train_acc, label='Train Accuracy')\n",
        "ax1.plot(epoch_list, val_acc, label='Validation Accuracy')\n",
        "ax1.set_xticks(np.arange(0, epochs+1, 5))\n",
        "ax1.set_ylabel('Accuracy Value')\n",
        "ax1.set_xlabel('Epoch')\n",
        "ax1.set_title('Accuracy')\n",
        "l1 = ax1.legend(loc=\"best\")"
      ],
      "metadata": {
        "id": "rtCXBQzQRiH3",
        "colab": {
          "base_uri": "https://localhost:8080/",
          "height": 428
        },
        "outputId": "b17e6afe-de1f-4845-b01f-947f0a4dab42"
      },
      "execution_count": null,
      "outputs": [
        {
          "output_type": "display_data",
          "data": {
            "text/plain": [
              "<Figure size 1200x400 with 2 Axes>"
            ],
            "image/png": "[encoded data removed]"
          },
          "metadata": {}
        }
      ]
    },
    {
      "cell_type": "markdown",
      "source": [
        "### Classification Metrics & Confusion Matrix"
      ],
      "metadata": {
        "id": "Xs4YQoF0FXL2"
      }
    },
    {
      "cell_type": "code",
      "source": [
        "classes = ('plane', 'car', 'bird', 'cat', 'deer', 'dog', 'frog', 'horse', 'ship', 'truck')\n",
        "\n",
        "with torch.no_grad():\n",
        "    y_test = []\n",
        "    y_pred = []\n",
        "    for images, labels in testloader:\n",
        "        images = images.to(device)\n",
        "        labels = labels.to(device)\n",
        "        outputs = teacher(images)\n",
        "        _, predicted = torch.max(outputs.data, 1)\n",
        "        y_test += labels.cpu().numpy().tolist()\n",
        "        y_pred += predicted.cpu().numpy().tolist()\n",
        "\n",
        "# Generate the classification report\n",
        "print(\"Accuracy:\", accuracy_score(y_test, y_pred))\n",
        "print(\"Confusion Matrix: \\n\", confusion_matrix(y_test,y_pred))\n",
        "print(\"Performance Report: \\n\", classification_report(y_test, y_pred, target_names=classes))"
      ],
      "metadata": {
        "id": "gwSIc2TIitHb",
        "colab": {
          "base_uri": "https://localhost:8080/"
        },
        "outputId": "89f0a0c0-b245-44f7-8d77-12988ab52ab8"
      },
      "execution_count": null,
      "outputs": [
        {
          "output_type": "stream",
          "name": "stdout",
          "text": [
            "Accuracy: 0.8914\n",
            "Confusion Matrix: \n",
            " [[834   2  19  23   1   0 113   0   8   0]\n",
            " [  3 973   3  13   2   0   4   0   2   0]\n",
            " [ 17   2 845  14  62   0  60   0   0   0]\n",
            " [ 24   9  11 893  30   0  30   0   1   2]\n",
            " [  1   1  91  30 801   0  73   0   3   0]\n",
            " [  0   0   0   2   0 976   0  12   3   7]\n",
            " [113   1  71  35  66   0 701   0  13   0]\n",
            " [  0   0   0   0   0  16   0 971   0  13]\n",
            " [  4   0   4   4   3   3   6   0 974   2]\n",
            " [  0   0   0   0   0   7   1  46   0 946]]\n",
            "Performance Report: \n",
            "               precision    recall  f1-score   support\n",
            "\n",
            "       plane       0.84      0.83      0.84      1000\n",
            "         car       0.98      0.97      0.98      1000\n",
            "        bird       0.81      0.84      0.83      1000\n",
            "         cat       0.88      0.89      0.89      1000\n",
            "        deer       0.83      0.80      0.82      1000\n",
            "         dog       0.97      0.98      0.98      1000\n",
            "        frog       0.71      0.70      0.71      1000\n",
            "       horse       0.94      0.97      0.96      1000\n",
            "        ship       0.97      0.97      0.97      1000\n",
            "       truck       0.98      0.95      0.96      1000\n",
            "\n",
            "    accuracy                           0.89     10000\n",
            "   macro avg       0.89      0.89      0.89     10000\n",
            "weighted avg       0.89      0.89      0.89     10000\n",
            "\n"
          ]
        }
      ]
    },
    {
      "cell_type": "markdown",
      "source": [
        "### Save the Model"
      ],
      "metadata": {
        "id": "4bLGQlUFFmKg"
      }
    },
    {
      "cell_type": "code",
      "source": [
        "# Save the teacher_model\n",
        "#filename = 'teacher_model.sav'\n",
        "#pickle.dump(teacher, open(filename, 'wb'))"
      ],
      "metadata": {
        "id": "GdkNUfFoOxHk"
      },
      "execution_count": null,
      "outputs": []
    },
    {
      "cell_type": "code",
      "source": [
        "torch.save(teacher.state_dict(), 'model_teacher')"
      ],
      "metadata": {
        "id": "7pFbWe-dhqC2"
      },
      "execution_count": null,
      "outputs": []
    },
    {
      "cell_type": "markdown",
      "source": [
        "## Student Model"
      ],
      "metadata": {
        "id": "pG2tKQ9BKBDo"
      }
    },
    {
      "cell_type": "markdown",
      "source": [
        "### Initializing the model"
      ],
      "metadata": {
        "id": "f_ZuNTtSKDuM"
      }
    },
    {
      "cell_type": "code",
      "source": [
        "# Define the MobileNet architecture\n",
        "student = models.mobilenet_v2(pretrained=False)\n",
        "student.features[0][0] = nn.Conv2d(1, 32, kernel_size=3, stride=2, padding=1, bias=False)  # Change input channels to 1\n",
        "num_ftrs_mobilenet = student.classifier[1].in_features\n",
        "student.classifier[1] = nn.Linear(num_ftrs_mobilenet, 10)\n",
        "student.to(device)"
      ],
      "metadata": {
        "colab": {
          "base_uri": "https://localhost:8080/"
        },
        "id": "zrwcbD9zwwQg",
        "outputId": "030514ff-f2c3-4717-84c3-ea89d08eff83"
      },
      "execution_count": null,
      "outputs": [
        {
          "output_type": "stream",
          "name": "stderr",
          "text": [
            "/usr/local/lib/python3.10/dist-packages/torchvision/models/_utils.py:208: UserWarning: The parameter 'pretrained' is deprecated since 0.13 and may be removed in the future, please use 'weights' instead.\n",
            "  warnings.warn(\n",
            "/usr/local/lib/python3.10/dist-packages/torchvision/models/_utils.py:223: UserWarning: Arguments other than a weight enum or `None` for 'weights' are deprecated since 0.13 and may be removed in the future. The current behavior is equivalent to passing `weights=None`.\n",
            "  warnings.warn(msg)\n"
          ]
        },
        {
          "output_type": "execute_result",
          "data": {
            "text/plain": [
              "MobileNetV2(\n",
              "  (features): Sequential(\n",
              "    (0): Conv2dNormActivation(\n",
              "      (0): Conv2d(1, 32, kernel_size=(3, 3), stride=(2, 2), padding=(1, 1), bias=False)\n",
              "      (1): BatchNorm2d(32, eps=1e-05, momentum=0.1, affine=True, track_running_stats=True)\n",
              "      (2): ReLU6(inplace=True)\n",
              "    )\n",
              "    (1): InvertedResidual(\n",
              "      (conv): Sequential(\n",
              "        (0): Conv2dNormActivation(\n",
              "          (0): Conv2d(32, 32, kernel_size=(3, 3), stride=(1, 1), padding=(1, 1), groups=32, bias=False)\n",
              "          (1): BatchNorm2d(32, eps=1e-05, momentum=0.1, affine=True, track_running_stats=True)\n",
              "          (2): ReLU6(inplace=True)\n",
              "        )\n",
              "        (1): Conv2d(32, 16, kernel_size=(1, 1), stride=(1, 1), bias=False)\n",
              "        (2): BatchNorm2d(16, eps=1e-05, momentum=0.1, affine=True, track_running_stats=True)\n",
              "      )\n",
              "    )\n",
              "    (2): InvertedResidual(\n",
              "      (conv): Sequential(\n",
              "        (0): Conv2dNormActivation(\n",
              "          (0): Conv2d(16, 96, kernel_size=(1, 1), stride=(1, 1), bias=False)\n",
              "          (1): BatchNorm2d(96, eps=1e-05, momentum=0.1, affine=True, track_running_stats=True)\n",
              "          (2): ReLU6(inplace=True)\n",
              "        )\n",
              "        (1): Conv2dNormActivation(\n",
              "          (0): Conv2d(96, 96, kernel_size=(3, 3), stride=(2, 2), padding=(1, 1), groups=96, bias=False)\n",
              "          (1): BatchNorm2d(96, eps=1e-05, momentum=0.1, affine=True, track_running_stats=True)\n",
              "          (2): ReLU6(inplace=True)\n",
              "        )\n",
              "        (2): Conv2d(96, 24, kernel_size=(1, 1), stride=(1, 1), bias=False)\n",
              "        (3): BatchNorm2d(24, eps=1e-05, momentum=0.1, affine=True, track_running_stats=True)\n",
              "      )\n",
              "    )\n",
              "    (3): InvertedResidual(\n",
              "      (conv): Sequential(\n",
              "        (0): Conv2dNormActivation(\n",
              "          (0): Conv2d(24, 144, kernel_size=(1, 1), stride=(1, 1), bias=False)\n",
              "          (1): BatchNorm2d(144, eps=1e-05, momentum=0.1, affine=True, track_running_stats=True)\n",
              "          (2): ReLU6(inplace=True)\n",
              "        )\n",
              "        (1): Conv2dNormActivation(\n",
              "          (0): Conv2d(144, 144, kernel_size=(3, 3), stride=(1, 1), padding=(1, 1), groups=144, bias=False)\n",
              "          (1): BatchNorm2d(144, eps=1e-05, momentum=0.1, affine=True, track_running_stats=True)\n",
              "          (2): ReLU6(inplace=True)\n",
              "        )\n",
              "        (2): Conv2d(144, 24, kernel_size=(1, 1), stride=(1, 1), bias=False)\n",
              "        (3): BatchNorm2d(24, eps=1e-05, momentum=0.1, affine=True, track_running_stats=True)\n",
              "      )\n",
              "    )\n",
              "    (4): InvertedResidual(\n",
              "      (conv): Sequential(\n",
              "        (0): Conv2dNormActivation(\n",
              "          (0): Conv2d(24, 144, kernel_size=(1, 1), stride=(1, 1), bias=False)\n",
              "          (1): BatchNorm2d(144, eps=1e-05, momentum=0.1, affine=True, track_running_stats=True)\n",
              "          (2): ReLU6(inplace=True)\n",
              "        )\n",
              "        (1): Conv2dNormActivation(\n",
              "          (0): Conv2d(144, 144, kernel_size=(3, 3), stride=(2, 2), padding=(1, 1), groups=144, bias=False)\n",
              "          (1): BatchNorm2d(144, eps=1e-05, momentum=0.1, affine=True, track_running_stats=True)\n",
              "          (2): ReLU6(inplace=True)\n",
              "        )\n",
              "        (2): Conv2d(144, 32, kernel_size=(1, 1), stride=(1, 1), bias=False)\n",
              "        (3): BatchNorm2d(32, eps=1e-05, momentum=0.1, affine=True, track_running_stats=True)\n",
              "      )\n",
              "    )\n",
              "    (5): InvertedResidual(\n",
              "      (conv): Sequential(\n",
              "        (0): Conv2dNormActivation(\n",
              "          (0): Conv2d(32, 192, kernel_size=(1, 1), stride=(1, 1), bias=False)\n",
              "          (1): BatchNorm2d(192, eps=1e-05, momentum=0.1, affine=True, track_running_stats=True)\n",
              "          (2): ReLU6(inplace=True)\n",
              "        )\n",
              "        (1): Conv2dNormActivation(\n",
              "          (0): Conv2d(192, 192, kernel_size=(3, 3), stride=(1, 1), padding=(1, 1), groups=192, bias=False)\n",
              "          (1): BatchNorm2d(192, eps=1e-05, momentum=0.1, affine=True, track_running_stats=True)\n",
              "          (2): ReLU6(inplace=True)\n",
              "        )\n",
              "        (2): Conv2d(192, 32, kernel_size=(1, 1), stride=(1, 1), bias=False)\n",
              "        (3): BatchNorm2d(32, eps=1e-05, momentum=0.1, affine=True, track_running_stats=True)\n",
              "      )\n",
              "    )\n",
              "    (6): InvertedResidual(\n",
              "      (conv): Sequential(\n",
              "        (0): Conv2dNormActivation(\n",
              "          (0): Conv2d(32, 192, kernel_size=(1, 1), stride=(1, 1), bias=False)\n",
              "          (1): BatchNorm2d(192, eps=1e-05, momentum=0.1, affine=True, track_running_stats=True)\n",
              "          (2): ReLU6(inplace=True)\n",
              "        )\n",
              "        (1): Conv2dNormActivation(\n",
              "          (0): Conv2d(192, 192, kernel_size=(3, 3), stride=(1, 1), padding=(1, 1), groups=192, bias=False)\n",
              "          (1): BatchNorm2d(192, eps=1e-05, momentum=0.1, affine=True, track_running_stats=True)\n",
              "          (2): ReLU6(inplace=True)\n",
              "        )\n",
              "        (2): Conv2d(192, 32, kernel_size=(1, 1), stride=(1, 1), bias=False)\n",
              "        (3): BatchNorm2d(32, eps=1e-05, momentum=0.1, affine=True, track_running_stats=True)\n",
              "      )\n",
              "    )\n",
              "    (7): InvertedResidual(\n",
              "      (conv): Sequential(\n",
              "        (0): Conv2dNormActivation(\n",
              "          (0): Conv2d(32, 192, kernel_size=(1, 1), stride=(1, 1), bias=False)\n",
              "          (1): BatchNorm2d(192, eps=1e-05, momentum=0.1, affine=True, track_running_stats=True)\n",
              "          (2): ReLU6(inplace=True)\n",
              "        )\n",
              "        (1): Conv2dNormActivation(\n",
              "          (0): Conv2d(192, 192, kernel_size=(3, 3), stride=(2, 2), padding=(1, 1), groups=192, bias=False)\n",
              "          (1): BatchNorm2d(192, eps=1e-05, momentum=0.1, affine=True, track_running_stats=True)\n",
              "          (2): ReLU6(inplace=True)\n",
              "        )\n",
              "        (2): Conv2d(192, 64, kernel_size=(1, 1), stride=(1, 1), bias=False)\n",
              "        (3): BatchNorm2d(64, eps=1e-05, momentum=0.1, affine=True, track_running_stats=True)\n",
              "      )\n",
              "    )\n",
              "    (8): InvertedResidual(\n",
              "      (conv): Sequential(\n",
              "        (0): Conv2dNormActivation(\n",
              "          (0): Conv2d(64, 384, kernel_size=(1, 1), stride=(1, 1), bias=False)\n",
              "          (1): BatchNorm2d(384, eps=1e-05, momentum=0.1, affine=True, track_running_stats=True)\n",
              "          (2): ReLU6(inplace=True)\n",
              "        )\n",
              "        (1): Conv2dNormActivation(\n",
              "          (0): Conv2d(384, 384, kernel_size=(3, 3), stride=(1, 1), padding=(1, 1), groups=384, bias=False)\n",
              "          (1): BatchNorm2d(384, eps=1e-05, momentum=0.1, affine=True, track_running_stats=True)\n",
              "          (2): ReLU6(inplace=True)\n",
              "        )\n",
              "        (2): Conv2d(384, 64, kernel_size=(1, 1), stride=(1, 1), bias=False)\n",
              "        (3): BatchNorm2d(64, eps=1e-05, momentum=0.1, affine=True, track_running_stats=True)\n",
              "      )\n",
              "    )\n",
              "    (9): InvertedResidual(\n",
              "      (conv): Sequential(\n",
              "        (0): Conv2dNormActivation(\n",
              "          (0): Conv2d(64, 384, kernel_size=(1, 1), stride=(1, 1), bias=False)\n",
              "          (1): BatchNorm2d(384, eps=1e-05, momentum=0.1, affine=True, track_running_stats=True)\n",
              "          (2): ReLU6(inplace=True)\n",
              "        )\n",
              "        (1): Conv2dNormActivation(\n",
              "          (0): Conv2d(384, 384, kernel_size=(3, 3), stride=(1, 1), padding=(1, 1), groups=384, bias=False)\n",
              "          (1): BatchNorm2d(384, eps=1e-05, momentum=0.1, affine=True, track_running_stats=True)\n",
              "          (2): ReLU6(inplace=True)\n",
              "        )\n",
              "        (2): Conv2d(384, 64, kernel_size=(1, 1), stride=(1, 1), bias=False)\n",
              "        (3): BatchNorm2d(64, eps=1e-05, momentum=0.1, affine=True, track_running_stats=True)\n",
              "      )\n",
              "    )\n",
              "    (10): InvertedResidual(\n",
              "      (conv): Sequential(\n",
              "        (0): Conv2dNormActivation(\n",
              "          (0): Conv2d(64, 384, kernel_size=(1, 1), stride=(1, 1), bias=False)\n",
              "          (1): BatchNorm2d(384, eps=1e-05, momentum=0.1, affine=True, track_running_stats=True)\n",
              "          (2): ReLU6(inplace=True)\n",
              "        )\n",
              "        (1): Conv2dNormActivation(\n",
              "          (0): Conv2d(384, 384, kernel_size=(3, 3), stride=(1, 1), padding=(1, 1), groups=384, bias=False)\n",
              "          (1): BatchNorm2d(384, eps=1e-05, momentum=0.1, affine=True, track_running_stats=True)\n",
              "          (2): ReLU6(inplace=True)\n",
              "        )\n",
              "        (2): Conv2d(384, 64, kernel_size=(1, 1), stride=(1, 1), bias=False)\n",
              "        (3): BatchNorm2d(64, eps=1e-05, momentum=0.1, affine=True, track_running_stats=True)\n",
              "      )\n",
              "    )\n",
              "    (11): InvertedResidual(\n",
              "      (conv): Sequential(\n",
              "        (0): Conv2dNormActivation(\n",
              "          (0): Conv2d(64, 384, kernel_size=(1, 1), stride=(1, 1), bias=False)\n",
              "          (1): BatchNorm2d(384, eps=1e-05, momentum=0.1, affine=True, track_running_stats=True)\n",
              "          (2): ReLU6(inplace=True)\n",
              "        )\n",
              "        (1): Conv2dNormActivation(\n",
              "          (0): Conv2d(384, 384, kernel_size=(3, 3), stride=(1, 1), padding=(1, 1), groups=384, bias=False)\n",
              "          (1): BatchNorm2d(384, eps=1e-05, momentum=0.1, affine=True, track_running_stats=True)\n",
              "          (2): ReLU6(inplace=True)\n",
              "        )\n",
              "        (2): Conv2d(384, 96, kernel_size=(1, 1), stride=(1, 1), bias=False)\n",
              "        (3): BatchNorm2d(96, eps=1e-05, momentum=0.1, affine=True, track_running_stats=True)\n",
              "      )\n",
              "    )\n",
              "    (12): InvertedResidual(\n",
              "      (conv): Sequential(\n",
              "        (0): Conv2dNormActivation(\n",
              "          (0): Conv2d(96, 576, kernel_size=(1, 1), stride=(1, 1), bias=False)\n",
              "          (1): BatchNorm2d(576, eps=1e-05, momentum=0.1, affine=True, track_running_stats=True)\n",
              "          (2): ReLU6(inplace=True)\n",
              "        )\n",
              "        (1): Conv2dNormActivation(\n",
              "          (0): Conv2d(576, 576, kernel_size=(3, 3), stride=(1, 1), padding=(1, 1), groups=576, bias=False)\n",
              "          (1): BatchNorm2d(576, eps=1e-05, momentum=0.1, affine=True, track_running_stats=True)\n",
              "          (2): ReLU6(inplace=True)\n",
              "        )\n",
              "        (2): Conv2d(576, 96, kernel_size=(1, 1), stride=(1, 1), bias=False)\n",
              "        (3): BatchNorm2d(96, eps=1e-05, momentum=0.1, affine=True, track_running_stats=True)\n",
              "      )\n",
              "    )\n",
              "    (13): InvertedResidual(\n",
              "      (conv): Sequential(\n",
              "        (0): Conv2dNormActivation(\n",
              "          (0): Conv2d(96, 576, kernel_size=(1, 1), stride=(1, 1), bias=False)\n",
              "          (1): BatchNorm2d(576, eps=1e-05, momentum=0.1, affine=True, track_running_stats=True)\n",
              "          (2): ReLU6(inplace=True)\n",
              "        )\n",
              "        (1): Conv2dNormActivation(\n",
              "          (0): Conv2d(576, 576, kernel_size=(3, 3), stride=(1, 1), padding=(1, 1), groups=576, bias=False)\n",
              "          (1): BatchNorm2d(576, eps=1e-05, momentum=0.1, affine=True, track_running_stats=True)\n",
              "          (2): ReLU6(inplace=True)\n",
              "        )\n",
              "        (2): Conv2d(576, 96, kernel_size=(1, 1), stride=(1, 1), bias=False)\n",
              "        (3): BatchNorm2d(96, eps=1e-05, momentum=0.1, affine=True, track_running_stats=True)\n",
              "      )\n",
              "    )\n",
              "    (14): InvertedResidual(\n",
              "      (conv): Sequential(\n",
              "        (0): Conv2dNormActivation(\n",
              "          (0): Conv2d(96, 576, kernel_size=(1, 1), stride=(1, 1), bias=False)\n",
              "          (1): BatchNorm2d(576, eps=1e-05, momentum=0.1, affine=True, track_running_stats=True)\n",
              "          (2): ReLU6(inplace=True)\n",
              "        )\n",
              "        (1): Conv2dNormActivation(\n",
              "          (0): Conv2d(576, 576, kernel_size=(3, 3), stride=(2, 2), padding=(1, 1), groups=576, bias=False)\n",
              "          (1): BatchNorm2d(576, eps=1e-05, momentum=0.1, affine=True, track_running_stats=True)\n",
              "          (2): ReLU6(inplace=True)\n",
              "        )\n",
              "        (2): Conv2d(576, 160, kernel_size=(1, 1), stride=(1, 1), bias=False)\n",
              "        (3): BatchNorm2d(160, eps=1e-05, momentum=0.1, affine=True, track_running_stats=True)\n",
              "      )\n",
              "    )\n",
              "    (15): InvertedResidual(\n",
              "      (conv): Sequential(\n",
              "        (0): Conv2dNormActivation(\n",
              "          (0): Conv2d(160, 960, kernel_size=(1, 1), stride=(1, 1), bias=False)\n",
              "          (1): BatchNorm2d(960, eps=1e-05, momentum=0.1, affine=True, track_running_stats=True)\n",
              "          (2): ReLU6(inplace=True)\n",
              "        )\n",
              "        (1): Conv2dNormActivation(\n",
              "          (0): Conv2d(960, 960, kernel_size=(3, 3), stride=(1, 1), padding=(1, 1), groups=960, bias=False)\n",
              "          (1): BatchNorm2d(960, eps=1e-05, momentum=0.1, affine=True, track_running_stats=True)\n",
              "          (2): ReLU6(inplace=True)\n",
              "        )\n",
              "        (2): Conv2d(960, 160, kernel_size=(1, 1), stride=(1, 1), bias=False)\n",
              "        (3): BatchNorm2d(160, eps=1e-05, momentum=0.1, affine=True, track_running_stats=True)\n",
              "      )\n",
              "    )\n",
              "    (16): InvertedResidual(\n",
              "      (conv): Sequential(\n",
              "        (0): Conv2dNormActivation(\n",
              "          (0): Conv2d(160, 960, kernel_size=(1, 1), stride=(1, 1), bias=False)\n",
              "          (1): BatchNorm2d(960, eps=1e-05, momentum=0.1, affine=True, track_running_stats=True)\n",
              "          (2): ReLU6(inplace=True)\n",
              "        )\n",
              "        (1): Conv2dNormActivation(\n",
              "          (0): Conv2d(960, 960, kernel_size=(3, 3), stride=(1, 1), padding=(1, 1), groups=960, bias=False)\n",
              "          (1): BatchNorm2d(960, eps=1e-05, momentum=0.1, affine=True, track_running_stats=True)\n",
              "          (2): ReLU6(inplace=True)\n",
              "        )\n",
              "        (2): Conv2d(960, 160, kernel_size=(1, 1), stride=(1, 1), bias=False)\n",
              "        (3): BatchNorm2d(160, eps=1e-05, momentum=0.1, affine=True, track_running_stats=True)\n",
              "      )\n",
              "    )\n",
              "    (17): InvertedResidual(\n",
              "      (conv): Sequential(\n",
              "        (0): Conv2dNormActivation(\n",
              "          (0): Conv2d(160, 960, kernel_size=(1, 1), stride=(1, 1), bias=False)\n",
              "          (1): BatchNorm2d(960, eps=1e-05, momentum=0.1, affine=True, track_running_stats=True)\n",
              "          (2): ReLU6(inplace=True)\n",
              "        )\n",
              "        (1): Conv2dNormActivation(\n",
              "          (0): Conv2d(960, 960, kernel_size=(3, 3), stride=(1, 1), padding=(1, 1), groups=960, bias=False)\n",
              "          (1): BatchNorm2d(960, eps=1e-05, momentum=0.1, affine=True, track_running_stats=True)\n",
              "          (2): ReLU6(inplace=True)\n",
              "        )\n",
              "        (2): Conv2d(960, 320, kernel_size=(1, 1), stride=(1, 1), bias=False)\n",
              "        (3): BatchNorm2d(320, eps=1e-05, momentum=0.1, affine=True, track_running_stats=True)\n",
              "      )\n",
              "    )\n",
              "    (18): Conv2dNormActivation(\n",
              "      (0): Conv2d(320, 1280, kernel_size=(1, 1), stride=(1, 1), bias=False)\n",
              "      (1): BatchNorm2d(1280, eps=1e-05, momentum=0.1, affine=True, track_running_stats=True)\n",
              "      (2): ReLU6(inplace=True)\n",
              "    )\n",
              "  )\n",
              "  (classifier): Sequential(\n",
              "    (0): Dropout(p=0.2, inplace=False)\n",
              "    (1): Linear(in_features=1280, out_features=10, bias=True)\n",
              "  )\n",
              ")"
            ]
          },
          "metadata": {},
          "execution_count": 29
        }
      ]
    },
    {
      "cell_type": "code",
      "source": [
        "torchinfo.summary(student, (1, 224, 224), batch_dim = 0, col_names = (\"input_size\", \"output_size\", \"num_params\", \"kernel_size\", \"mult_adds\"), verbose = 0)"
      ],
      "metadata": {
        "id": "V3tXzkUdnXlH",
        "colab": {
          "base_uri": "https://localhost:8080/"
        },
        "outputId": "b157be80-9334-4bcc-e5b5-86ab0c8a21d3"
      },
      "execution_count": null,
      "outputs": [
        {
          "output_type": "execute_result",
          "data": {
            "text/plain": [
              "===============================================================================================================================================================================\n",
              "Layer (type:depth-idx)                             Input Shape               Output Shape              Param #                   Kernel Shape              Mult-Adds\n",
              "===============================================================================================================================================================================\n",
              "MobileNetV2                                        [1, 1, 224, 224]          [1, 10]                   --                        --                        --\n",
              "├─Sequential: 1-1                                  [1, 1, 224, 224]          [1, 1280, 7, 7]           --                        --                        --\n",
              "│    └─Conv2dNormActivation: 2-1                   [1, 1, 224, 224]          [1, 32, 112, 112]         --                        --                        --\n",
              "│    │    └─Conv2d: 3-1                            [1, 1, 224, 224]          [1, 32, 112, 112]         288                       [3, 3]                    3,612,672\n",
              "│    │    └─BatchNorm2d: 3-2                       [1, 32, 112, 112]         [1, 32, 112, 112]         64                        --                        64\n",
              "│    │    └─ReLU6: 3-3                             [1, 32, 112, 112]         [1, 32, 112, 112]         --                        --                        --\n",
              "│    └─InvertedResidual: 2-2                       [1, 32, 112, 112]         [1, 16, 112, 112]         --                        --                        --\n",
              "│    │    └─Sequential: 3-4                        [1, 32, 112, 112]         [1, 16, 112, 112]         896                       --                        10,035,296\n",
              "│    └─InvertedResidual: 2-3                       [1, 16, 112, 112]         [1, 24, 56, 56]           --                        --                        --\n",
              "│    │    └─Sequential: 3-5                        [1, 16, 112, 112]         [1, 24, 56, 56]           5,136                     --                        29,202,864\n",
              "│    └─InvertedResidual: 2-4                       [1, 24, 56, 56]           [1, 24, 56, 56]           --                        --                        --\n",
              "│    │    └─Sequential: 3-6                        [1, 24, 56, 56]           [1, 24, 56, 56]           8,832                     --                        25,740,912\n",
              "│    └─InvertedResidual: 2-5                       [1, 24, 56, 56]           [1, 32, 28, 28]           --                        --                        --\n",
              "│    │    └─Sequential: 3-7                        [1, 24, 56, 56]           [1, 32, 28, 28]           10,000                    --                        15,467,392\n",
              "│    └─InvertedResidual: 2-6                       [1, 32, 28, 28]           [1, 32, 28, 28]           --                        --                        --\n",
              "│    │    └─Sequential: 3-8                        [1, 32, 28, 28]           [1, 32, 28, 28]           14,848                    --                        10,989,376\n",
              "│    └─InvertedResidual: 2-7                       [1, 32, 28, 28]           [1, 32, 28, 28]           --                        --                        --\n",
              "│    │    └─Sequential: 3-9                        [1, 32, 28, 28]           [1, 32, 28, 28]           14,848                    --                        10,989,376\n",
              "│    └─InvertedResidual: 2-8                       [1, 32, 28, 28]           [1, 64, 14, 14]           --                        --                        --\n",
              "│    │    └─Sequential: 3-10                       [1, 32, 28, 28]           [1, 64, 14, 14]           21,056                    --                        7,564,928\n",
              "│    └─InvertedResidual: 2-9                       [1, 64, 14, 14]           [1, 64, 14, 14]           --                        --                        --\n",
              "│    │    └─Sequential: 3-11                       [1, 64, 14, 14]           [1, 64, 14, 14]           54,272                    --                        10,312,832\n",
              "│    └─InvertedResidual: 2-10                      [1, 64, 14, 14]           [1, 64, 14, 14]           --                        --                        --\n",
              "│    │    └─Sequential: 3-12                       [1, 64, 14, 14]           [1, 64, 14, 14]           54,272                    --                        10,312,832\n",
              "│    └─InvertedResidual: 2-11                      [1, 64, 14, 14]           [1, 64, 14, 14]           --                        --                        --\n",
              "│    │    └─Sequential: 3-13                       [1, 64, 14, 14]           [1, 64, 14, 14]           54,272                    --                        10,312,832\n",
              "│    └─InvertedResidual: 2-12                      [1, 64, 14, 14]           [1, 96, 14, 14]           --                        --                        --\n",
              "│    │    └─Sequential: 3-14                       [1, 64, 14, 14]           [1, 96, 14, 14]           66,624                    --                        12,721,344\n",
              "│    └─InvertedResidual: 2-13                      [1, 96, 14, 14]           [1, 96, 14, 14]           --                        --                        --\n",
              "│    │    └─Sequential: 3-15                       [1, 96, 14, 14]           [1, 96, 14, 14]           118,272                   --                        22,694,592\n",
              "│    └─InvertedResidual: 2-14                      [1, 96, 14, 14]           [1, 96, 14, 14]           --                        --                        --\n",
              "│    │    └─Sequential: 3-16                       [1, 96, 14, 14]           [1, 96, 14, 14]           118,272                   --                        22,694,592\n",
              "│    └─InvertedResidual: 2-15                      [1, 96, 14, 14]           [1, 160, 7, 7]            --                        --                        --\n",
              "│    │    └─Sequential: 3-17                       [1, 96, 14, 14]           [1, 160, 7, 7]            155,264                   --                        15,610,496\n",
              "│    └─InvertedResidual: 2-16                      [1, 160, 7, 7]            [1, 160, 7, 7]            --                        --                        --\n",
              "│    │    └─Sequential: 3-18                       [1, 160, 7, 7]            [1, 160, 7, 7]            320,000                   --                        15,480,320\n",
              "│    └─InvertedResidual: 2-17                      [1, 160, 7, 7]            [1, 160, 7, 7]            --                        --                        --\n",
              "│    │    └─Sequential: 3-19                       [1, 160, 7, 7]            [1, 160, 7, 7]            320,000                   --                        15,480,320\n",
              "│    └─InvertedResidual: 2-18                      [1, 160, 7, 7]            [1, 320, 7, 7]            --                        --                        --\n",
              "│    │    └─Sequential: 3-20                       [1, 160, 7, 7]            [1, 320, 7, 7]            473,920                   --                        23,007,040\n",
              "│    └─Conv2dNormActivation: 2-19                  [1, 320, 7, 7]            [1, 1280, 7, 7]           --                        --                        --\n",
              "│    │    └─Conv2d: 3-21                           [1, 320, 7, 7]            [1, 1280, 7, 7]           409,600                   [1, 1]                    20,070,400\n",
              "│    │    └─BatchNorm2d: 3-22                      [1, 1280, 7, 7]           [1, 1280, 7, 7]           2,560                     --                        2,560\n",
              "│    │    └─ReLU6: 3-23                            [1, 1280, 7, 7]           [1, 1280, 7, 7]           --                        --                        --\n",
              "├─Sequential: 1-2                                  [1, 1280]                 [1, 10]                   --                        --                        --\n",
              "│    └─Dropout: 2-20                               [1, 1280]                 [1, 1280]                 --                        --                        --\n",
              "│    └─Linear: 2-21                                [1, 1280]                 [1, 10]                   12,810                    --                        12,810\n",
              "===============================================================================================================================================================================\n",
              "Total params: 2,236,106\n",
              "Trainable params: 2,236,106\n",
              "Non-trainable params: 0\n",
              "Total mult-adds (M): 292.32\n",
              "===============================================================================================================================================================================\n",
              "Input size (MB): 0.20\n",
              "Forward/backward pass size (MB): 106.85\n",
              "Params size (MB): 8.94\n",
              "Estimated Total Size (MB): 116.00\n",
              "==============================================================================================================================================================================="
            ]
          },
          "metadata": {},
          "execution_count": 32
        }
      ]
    },
    {
      "cell_type": "markdown",
      "source": [
        "### Training the Senior Student model"
      ],
      "metadata": {
        "id": "xQoqYbITJ5zH"
      }
    },
    {
      "cell_type": "code",
      "source": [
        "# Define the temperature for softening the logits\n",
        "T = 4\n",
        "\n",
        "# Define the optimizer for training the MobileNet model\n",
        "optimizer2 = optim.SGD(student.parameters(), lr=0.001)"
      ],
      "metadata": {
        "id": "8A8hDKYGBwH9"
      },
      "execution_count": null,
      "outputs": []
    },
    {
      "cell_type": "code",
      "source": [
        "epochs2 = 35"
      ],
      "metadata": {
        "id": "zUbmDoBA1mqx"
      },
      "execution_count": null,
      "outputs": []
    },
    {
      "cell_type": "code",
      "source": [
        "import torch\n",
        "import torch.nn.functional as F\n",
        "import numpy as np\n",
        "\n",
        "# Assuming you have defined the 'senior' and 'teacher' models and initialized them\n",
        "\n",
        "def train_student(senior, teacher, trainloader, valloader, epochs, T, device, optimizer):\n",
        "    train_loss = []\n",
        "    train_acc = []\n",
        "    val_loss = []\n",
        "    val_acc = []\n",
        "\n",
        "    for epoch in range(epochs2):\n",
        "        l1 = []\n",
        "        l2 = []\n",
        "        a1 = []\n",
        "        a2 = []\n",
        "\n",
        "        for i, (img, labels) in enumerate(trainloader):\n",
        "            img = img.to(device)\n",
        "            labels = labels.to(device)\n",
        "            output = student(img)\n",
        "\n",
        "            # Accuracy\n",
        "            probs = F.softmax(output, dim=1)\n",
        "            max_prob, preds = torch.max(probs, dim=1)\n",
        "            acc = (torch.sum(preds == labels).item() / len(preds))\n",
        "            a1.append(acc)\n",
        "\n",
        "            # Loss\n",
        "            compare = teacher(img)\n",
        "            pdist = F.softmax(compare / T, dim=1)\n",
        "            soft_loss_teacher = nn.KLDivLoss(reduction='batchmean')(F.log_softmax(output / T, dim=1), pdist)\n",
        "            loss = nn.CrossEntropyLoss()(output, labels)\n",
        "            loss = 0.4 * loss + 0.6 * soft_loss_teacher\n",
        "            l1.append(loss.item())\n",
        "\n",
        "            # Backpropagation\n",
        "            optimizer2.zero_grad()\n",
        "            loss.backward()\n",
        "            optimizer2.step()\n",
        "\n",
        "        for img, lbl in valloader:\n",
        "            img = img.to(device)\n",
        "            lbl = lbl.to(device)\n",
        "            output = senior(img)\n",
        "            loss = nn.CrossEntropyLoss()(output, lbl)\n",
        "            l2.append(loss.item())\n",
        "            probs = F.softmax(output, dim=1)\n",
        "            max_prob, preds = torch.max(probs, dim=1)\n",
        "            acc = (torch.sum(preds == lbl).item() / len(preds))\n",
        "            a2.append(acc)\n",
        "\n",
        "        train_loss.append(np.mean(l1))\n",
        "        val_loss.append(np.mean(l2))\n",
        "        train_acc.append(np.mean(a1))\n",
        "        val_acc.append(np.mean(a2))\n",
        "\n",
        "        print(f'Epoch {epoch+1}: Train Loss==> {np.mean(l1):.2f} Train_Acc==> {np.mean(a1)*100 :.3f} % Val Loss==> {np.mean(l2):.2f}  Val_Acc==> {np.mean(a2)*100 :.3f} %')\n",
        "\n",
        "    return train_loss, val_loss, train_acc, val_acc\n",
        "\n",
        "train_loss, val_loss, train_acc, val_acc = train_student(student, teacher, trainloader, valloader, epochs2, T, device, optimizer2)"
      ],
      "metadata": {
        "id": "MMhm0NbEGMmT",
        "colab": {
          "base_uri": "https://localhost:8080/"
        },
        "outputId": "cbcaac4d-6bf3-4c47-fd63-7a020e1b4cd1"
      },
      "execution_count": null,
      "outputs": [
        {
          "output_type": "stream",
          "name": "stdout",
          "text": [
            "Epoch 1: Train Loss==> 1.12 Train_Acc==> 29.712 % Val Loss==> 1.42  Val_Acc==> 49.485 %\n",
            "Epoch 2: Train Loss==> 0.68 Train_Acc==> 59.527 % Val Loss==> 0.90  Val_Acc==> 66.863 %\n",
            "Epoch 3: Train Loss==> 0.48 Train_Acc==> 70.977 % Val Loss==> 0.73  Val_Acc==> 73.155 %\n",
            "Epoch 4: Train Loss==> 0.39 Train_Acc==> 75.658 % Val Loss==> 0.65  Val_Acc==> 76.313 %\n",
            "Epoch 5: Train Loss==> 0.34 Train_Acc==> 78.423 % Val Loss==> 0.61  Val_Acc==> 78.275 %\n",
            "Epoch 6: Train Loss==> 0.31 Train_Acc==> 80.023 % Val Loss==> 0.58  Val_Acc==> 79.197 %\n",
            "Epoch 7: Train Loss==> 0.29 Train_Acc==> 81.227 % Val Loss==> 0.55  Val_Acc==> 80.535 %\n",
            "Epoch 8: Train Loss==> 0.28 Train_Acc==> 82.148 % Val Loss==> 0.53  Val_Acc==> 81.524 %\n",
            "Epoch 9: Train Loss==> 0.26 Train_Acc==> 83.010 % Val Loss==> 0.52  Val_Acc==> 81.666 %\n",
            "Epoch 10: Train Loss==> 0.25 Train_Acc==> 83.769 % Val Loss==> 0.51  Val_Acc==> 81.998 %\n",
            "Epoch 11: Train Loss==> 0.24 Train_Acc==> 84.252 % Val Loss==> 0.50  Val_Acc==> 82.621 %\n",
            "Epoch 12: Train Loss==> 0.23 Train_Acc==> 84.831 % Val Loss==> 0.49  Val_Acc==> 82.879 %\n",
            "Epoch 13: Train Loss==> 0.23 Train_Acc==> 85.138 % Val Loss==> 0.48  Val_Acc==> 83.012 %\n",
            "Epoch 14: Train Loss==> 0.22 Train_Acc==> 85.596 % Val Loss==> 0.48  Val_Acc==> 83.369 %\n",
            "Epoch 15: Train Loss==> 0.21 Train_Acc==> 85.942 % Val Loss==> 0.47  Val_Acc==> 83.602 %\n",
            "Epoch 16: Train Loss==> 0.21 Train_Acc==> 86.292 % Val Loss==> 0.47  Val_Acc==> 84.059 %\n",
            "Epoch 17: Train Loss==> 0.20 Train_Acc==> 86.662 % Val Loss==> 0.46  Val_Acc==> 83.818 %\n",
            "Epoch 18: Train Loss==> 0.20 Train_Acc==> 86.931 % Val Loss==> 0.46  Val_Acc==> 83.569 %\n",
            "Epoch 19: Train Loss==> 0.19 Train_Acc==> 87.481 % Val Loss==> 0.46  Val_Acc==> 83.926 %\n",
            "Epoch 20: Train Loss==> 0.19 Train_Acc==> 87.523 % Val Loss==> 0.46  Val_Acc==> 84.142 %\n",
            "Epoch 21: Train Loss==> 0.19 Train_Acc==> 87.781 % Val Loss==> 0.46  Val_Acc==> 84.358 %\n",
            "Epoch 22: Train Loss==> 0.18 Train_Acc==> 87.967 % Val Loss==> 0.46  Val_Acc==> 84.284 %\n",
            "Epoch 23: Train Loss==> 0.18 Train_Acc==> 88.396 % Val Loss==> 0.46  Val_Acc==> 84.500 %\n",
            "Epoch 24: Train Loss==> 0.17 Train_Acc==> 88.681 % Val Loss==> 0.45  Val_Acc==> 84.624 %\n",
            "Epoch 25: Train Loss==> 0.17 Train_Acc==> 88.710 % Val Loss==> 0.45  Val_Acc==> 84.799 %\n",
            "Epoch 26: Train Loss==> 0.17 Train_Acc==> 88.898 % Val Loss==> 0.45  Val_Acc==> 85.007 %\n",
            "Epoch 27: Train Loss==> 0.17 Train_Acc==> 89.260 % Val Loss==> 0.45  Val_Acc==> 84.691 %\n",
            "Epoch 28: Train Loss==> 0.16 Train_Acc==> 89.421 % Val Loss==> 0.45  Val_Acc==> 84.982 %\n",
            "Epoch 29: Train Loss==> 0.16 Train_Acc==> 89.525 % Val Loss==> 0.45  Val_Acc==> 84.815 %\n",
            "Epoch 30: Train Loss==> 0.16 Train_Acc==> 89.802 % Val Loss==> 0.45  Val_Acc==> 84.766 %\n",
            "Epoch 31: Train Loss==> 0.16 Train_Acc==> 89.981 % Val Loss==> 0.46  Val_Acc==> 85.023 %\n",
            "Epoch 32: Train Loss==> 0.16 Train_Acc==> 90.008 % Val Loss==> 0.45  Val_Acc==> 85.048 %\n",
            "Epoch 33: Train Loss==> 0.15 Train_Acc==> 90.388 % Val Loss==> 0.45  Val_Acc==> 85.090 %\n",
            "Epoch 34: Train Loss==> 0.15 Train_Acc==> 90.267 % Val Loss==> 0.45  Val_Acc==> 85.023 %\n",
            "Epoch 35: Train Loss==> 0.15 Train_Acc==> 90.517 % Val Loss==> 0.45  Val_Acc==> 84.907 %\n"
          ]
        }
      ]
    },
    {
      "cell_type": "code",
      "source": [
        "epochs2=35\n",
        "fig, (ax1, ax2) = plt.subplots(1, 2, figsize=(12, 4))\n",
        "title = fig.suptitle('Performance', fontsize=12)\n",
        "fig.subplots_adjust(top=0.85, wspace=0.3)\n",
        "\n",
        "epoch_list = list(range(1,epochs2+1))\n",
        "\n",
        "ax2.plot(epoch_list, train_loss, label='Train Loss')\n",
        "ax2.plot(epoch_list, val_loss, label='Validation Loss')\n",
        "ax2.set_xticks(np.arange(0, epochs2+1, 5))\n",
        "ax2.set_ylabel('Loss Value')\n",
        "ax2.set_xlabel('Epoch')\n",
        "ax2.set_title('Loss')\n",
        "l2 = ax2.legend(loc=\"best\")\n",
        "\n",
        "ax1.plot(epoch_list, train_acc, label='Train Accuracy')\n",
        "ax1.plot(epoch_list, val_acc, label='Validation Accuracy')\n",
        "ax1.set_xticks(np.arange(0, epochs2+1, 5))\n",
        "ax1.set_ylabel('Accuracy Value')\n",
        "ax1.set_xlabel('Epoch')\n",
        "ax1.set_title('Accuracy')\n",
        "l1 = ax1.legend(loc=\"best\")"
      ],
      "metadata": {
        "id": "luXMfR5IUqLb",
        "colab": {
          "base_uri": "https://localhost:8080/",
          "height": 428
        },
        "outputId": "e6e70c39-0342-451c-8a2f-f359056f04d2"
      },
      "execution_count": null,
      "outputs": [
        {
          "output_type": "display_data",
          "data": {
            "text/plain": [
              "<Figure size 1200x400 with 2 Axes>"
            ],
            "image/png": "[encoded data removed]"
          },
          "metadata": {}
        }
      ]
    },
    {
      "cell_type": "code",
      "source": [
        "classes = ('plane', 'car', 'bird', 'cat', 'deer', 'dog', 'frog', 'horse', 'ship', 'truck')\n",
        "\n",
        "with torch.no_grad():\n",
        "    y_test = []\n",
        "    y_pred = []\n",
        "    for images, labels in testloader:\n",
        "        images = images.to(device)\n",
        "        labels = labels.to(device)\n",
        "        outputs = student(images)\n",
        "        _, predicted = torch.max(outputs.data, 1)\n",
        "        y_test += labels.cpu().numpy().tolist()\n",
        "        y_pred += predicted.cpu().numpy().tolist()\n",
        "\n",
        "# Generate the classification report\n",
        "print(\"Accuracy:\", accuracy_score(y_test, y_pred))\n",
        "print(\"Confusion Matrix: \\n\", confusion_matrix(y_test,y_pred))\n",
        "print(\"Performance Report: \\n\", classification_report(y_test, y_pred, target_names=classes))"
      ],
      "metadata": {
        "id": "Es3IrmYfkdTC",
        "colab": {
          "base_uri": "https://localhost:8080/"
        },
        "outputId": "39bb7705-6b50-4934-eb0f-64d81a780829"
      },
      "execution_count": null,
      "outputs": [
        {
          "output_type": "stream",
          "name": "stdout",
          "text": [
            "Accuracy: 0.8446\n",
            "Confusion Matrix: \n",
            " [[804   1  16  36   8   1 126   0   8   0]\n",
            " [  3 950   7  27  10   0   2   0   1   0]\n",
            " [ 18   1 751  16 115   1  91   0   7   0]\n",
            " [ 35   6  13 882  26   0  34   0   3   1]\n",
            " [  3   4 114  39 765   0  69   0   6   0]\n",
            " [  0   1   0   1   0 944   0  38   2  14]\n",
            " [173   1 109  31 112   0 551   0  23   0]\n",
            " [  0   0   0   0   0  41   0 917   0  42]\n",
            " [  4   0   5   4   7   3  20   6 950   1]\n",
            " [  0   0   0   0   0  19   0  48   1 932]]\n",
            "Performance Report: \n",
            "               precision    recall  f1-score   support\n",
            "\n",
            "       plane       0.77      0.80      0.79      1000\n",
            "         car       0.99      0.95      0.97      1000\n",
            "        bird       0.74      0.75      0.75      1000\n",
            "         cat       0.85      0.88      0.87      1000\n",
            "        deer       0.73      0.77      0.75      1000\n",
            "         dog       0.94      0.94      0.94      1000\n",
            "        frog       0.62      0.55      0.58      1000\n",
            "       horse       0.91      0.92      0.91      1000\n",
            "        ship       0.95      0.95      0.95      1000\n",
            "       truck       0.94      0.93      0.94      1000\n",
            "\n",
            "    accuracy                           0.84     10000\n",
            "   macro avg       0.84      0.84      0.84     10000\n",
            "weighted avg       0.84      0.84      0.84     10000\n",
            "\n"
          ]
        }
      ]
    },
    {
      "cell_type": "code",
      "source": [
        "# Save the seniorstudent_model\n",
        "#filename = 'student_model.sav'\n",
        "#pickle.dump(student, open(filename, 'wb'))"
      ],
      "metadata": {
        "id": "oCTungP0UqLc"
      },
      "execution_count": null,
      "outputs": []
    },
    {
      "cell_type": "code",
      "source": [
        "torch.save(student.state_dict(), 'model_student')"
      ],
      "metadata": {
        "id": "fO6RtLBbkF5H"
      },
      "execution_count": null,
      "outputs": []
    },
    {
      "cell_type": "code",
      "source": [],
      "metadata": {
        "id": "4bdtCB2ZXvwk"
      },
      "execution_count": null,
      "outputs": []
    }
  ],
  "metadata": {
    "colab": {
      "provenance": [],
      "gpuType": "T4",
      "include_colab_link": true
    },
    "kernelspec": {
      "display_name": "Python 3",
      "name": "python3"
    },
    "language_info": {
      "name": "python"
    },
    "accelerator": "GPU"
  },
  "nbformat": 4,
  "nbformat_minor": 0
}